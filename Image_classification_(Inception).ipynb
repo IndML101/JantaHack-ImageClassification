{
  "nbformat": 4,
  "nbformat_minor": 0,
  "metadata": {
    "kernelspec": {
      "display_name": "Python 3",
      "language": "python",
      "name": "python3"
    },
    "language_info": {
      "codemirror_mode": {
        "name": "ipython",
        "version": 3
      },
      "file_extension": ".py",
      "mimetype": "text/x-python",
      "name": "python",
      "nbconvert_exporter": "python",
      "pygments_lexer": "ipython3",
      "version": "3.8.2"
    },
    "colab": {
      "name": "Image_classification_(Inception).ipynb",
      "provenance": [],
      "toc_visible": true
    },
    "accelerator": "GPU"
  },
  "cells": [
    {
      "cell_type": "markdown",
      "metadata": {
        "id": "fnOjHBWru73m",
        "colab_type": "text"
      },
      "source": [
        "# Image categorisation"
      ]
    },
    {
      "cell_type": "markdown",
      "metadata": {
        "id": "ARdIC02fu73n",
        "colab_type": "text"
      },
      "source": [
        "*  JantaHack Computer Vision by analyticsvidhya\n",
        "*  Classify emergency and non-emergency vehicle from images"
      ]
    },
    {
      "cell_type": "code",
      "metadata": {
        "id": "r6ELWGzdu73o",
        "colab_type": "code",
        "colab": {}
      },
      "source": [
        "import pandas as pd\n",
        "import numpy as np\n",
        "import random\n",
        "import math\n",
        "from google.colab import drive\n",
        "from sklearn.model_selection import train_test_split\n",
        "from sklearn.metrics import confusion_matrix\n",
        "\n",
        "from keras.preprocessing.image import ImageDataGenerator, load_img, img_to_array, array_to_img\n",
        "from keras.models import Sequential\n",
        "from keras.layers import Dense, Dropout, Activation, Flatten\n",
        "from keras.layers import Conv2D, MaxPool2D, BatchNormalization\n",
        "from keras.layers import Convolution2D, MaxPooling2D\n",
        "from keras.utils.np_utils import to_categorical\n",
        "\n",
        "from keras.applications.resnet50 import ResNet50\n",
        "from keras.applications.inception_v3 import InceptionV3\n",
        "from keras.applications.vgg16 import VGG16\n",
        "from keras.models import Model\n",
        "from keras.layers import Input, Dense, GlobalAveragePooling2D\n",
        "from keras.optimizers import adam\n",
        "from keras import backend as K\n",
        "\n",
        "import seaborn as sns\n",
        "from matplotlib import pyplot as plt"
      ],
      "execution_count": 0,
      "outputs": []
    },
    {
      "cell_type": "code",
      "metadata": {
        "id": "Lu1srAbWu73w",
        "colab_type": "code",
        "colab": {}
      },
      "source": [
        "# numpy random number geneartor seed\n",
        "# for reproducibility\n",
        "np.random.seed(123)\n",
        "\n",
        "# set plot rc parameters\n",
        "# jtplot.style(grid=False)\n",
        "plt.rcParams['figure.facecolor'] = 'white'\n",
        "plt.rcParams['axes.facecolor'] = '#232323'\n",
        "#plt.rcParams['axes.edgecolor'] = '#FFFFFF'\n",
        "plt.rcParams['figure.figsize'] = 10, 7\n",
        "plt.rcParams['legend.loc'] = 'best'\n",
        "plt.rcParams['legend.framealpha'] = 0.2\n",
        "plt.rcParams['text.color'] = '#666666'\n",
        "plt.rcParams['axes.labelcolor'] = '#666666'\n",
        "plt.rcParams['axes.labelsize'] = 14\n",
        "plt.rcParams['axes.titlesize'] = 16\n",
        "plt.rcParams['xtick.color'] = '#666666'\n",
        "plt.rcParams['xtick.labelsize'] = 14\n",
        "plt.rcParams['ytick.color'] = '#666666'\n",
        "plt.rcParams['ytick.labelsize'] = 14\n",
        "\n",
        "# plt.rcParams['font.size'] = 16\n",
        "\n",
        "sns.color_palette('dark')\n",
        "%matplotlib inline"
      ],
      "execution_count": 0,
      "outputs": []
    },
    {
      "cell_type": "markdown",
      "metadata": {
        "id": "6xhpQuOsu731",
        "colab_type": "text"
      },
      "source": [
        "## Load data"
      ]
    },
    {
      "cell_type": "code",
      "metadata": {
        "id": "JTuKfmiWv9CJ",
        "colab_type": "code",
        "outputId": "09081acb-2dd9-4c76-e2c9-0a7c344b0dc3",
        "colab": {
          "base_uri": "https://localhost:8080/",
          "height": 34
        }
      },
      "source": [
        "drive.mount('/content/drive')"
      ],
      "execution_count": 54,
      "outputs": [
        {
          "output_type": "stream",
          "text": [
            "Drive already mounted at /content/drive; to attempt to forcibly remount, call drive.mount(\"/content/drive\", force_remount=True).\n"
          ],
          "name": "stdout"
        }
      ]
    },
    {
      "cell_type": "code",
      "metadata": {
        "id": "DF3YeaWPy1UG",
        "colab_type": "code",
        "colab": {}
      },
      "source": [
        "data_dir = '/content/drive/My Drive/JantaHack Computer Vision/data'\n",
        "img_dir = '/content/drive/My Drive/JantaHack Computer Vision/data/images'"
      ],
      "execution_count": 0,
      "outputs": []
    },
    {
      "cell_type": "code",
      "metadata": {
        "id": "DR1enKVmu732",
        "colab_type": "code",
        "outputId": "1570b8b8-ca5a-4c12-8081-d23e3e62e408",
        "colab": {
          "base_uri": "https://localhost:8080/",
          "height": 34
        }
      },
      "source": [
        "train_img = pd.read_csv(data_dir+'/train.csv')\n",
        "test_img = pd.read_csv(data_dir+'/test_vc2kHdQ.csv')\n",
        "train_img.shape, test_img.shape"
      ],
      "execution_count": 56,
      "outputs": [
        {
          "output_type": "execute_result",
          "data": {
            "text/plain": [
              "((1646, 2), (706, 1))"
            ]
          },
          "metadata": {
            "tags": []
          },
          "execution_count": 56
        }
      ]
    },
    {
      "cell_type": "code",
      "metadata": {
        "id": "tSsgPQX5u736",
        "colab_type": "code",
        "colab": {}
      },
      "source": [
        "train_img['emergency_or_not'] = train_img['emergency_or_not'].apply(lambda x: str(x))"
      ],
      "execution_count": 0,
      "outputs": []
    },
    {
      "cell_type": "code",
      "metadata": {
        "id": "7wLHo4FZu73-",
        "colab_type": "code",
        "outputId": "9a883935-fc9c-4bb6-da6b-b79757d3d17f",
        "colab": {
          "base_uri": "https://localhost:8080/",
          "height": 204
        }
      },
      "source": [
        "train_img.head()"
      ],
      "execution_count": 58,
      "outputs": [
        {
          "output_type": "execute_result",
          "data": {
            "text/html": [
              "<div>\n",
              "<style scoped>\n",
              "    .dataframe tbody tr th:only-of-type {\n",
              "        vertical-align: middle;\n",
              "    }\n",
              "\n",
              "    .dataframe tbody tr th {\n",
              "        vertical-align: top;\n",
              "    }\n",
              "\n",
              "    .dataframe thead th {\n",
              "        text-align: right;\n",
              "    }\n",
              "</style>\n",
              "<table border=\"1\" class=\"dataframe\">\n",
              "  <thead>\n",
              "    <tr style=\"text-align: right;\">\n",
              "      <th></th>\n",
              "      <th>image_names</th>\n",
              "      <th>emergency_or_not</th>\n",
              "    </tr>\n",
              "  </thead>\n",
              "  <tbody>\n",
              "    <tr>\n",
              "      <th>0</th>\n",
              "      <td>1503.jpg</td>\n",
              "      <td>0</td>\n",
              "    </tr>\n",
              "    <tr>\n",
              "      <th>1</th>\n",
              "      <td>1420.jpg</td>\n",
              "      <td>0</td>\n",
              "    </tr>\n",
              "    <tr>\n",
              "      <th>2</th>\n",
              "      <td>1764.jpg</td>\n",
              "      <td>0</td>\n",
              "    </tr>\n",
              "    <tr>\n",
              "      <th>3</th>\n",
              "      <td>1356.jpg</td>\n",
              "      <td>0</td>\n",
              "    </tr>\n",
              "    <tr>\n",
              "      <th>4</th>\n",
              "      <td>1117.jpg</td>\n",
              "      <td>0</td>\n",
              "    </tr>\n",
              "  </tbody>\n",
              "</table>\n",
              "</div>"
            ],
            "text/plain": [
              "  image_names emergency_or_not\n",
              "0    1503.jpg                0\n",
              "1    1420.jpg                0\n",
              "2    1764.jpg                0\n",
              "3    1356.jpg                0\n",
              "4    1117.jpg                0"
            ]
          },
          "metadata": {
            "tags": []
          },
          "execution_count": 58
        }
      ]
    },
    {
      "cell_type": "markdown",
      "metadata": {
        "id": "P4aZZsnGu74D",
        "colab_type": "text"
      },
      "source": [
        "## Load Image data"
      ]
    },
    {
      "cell_type": "markdown",
      "metadata": {
        "id": "dcYccZAiu74E",
        "colab_type": "text"
      },
      "source": [
        "### Load image to array"
      ]
    },
    {
      "cell_type": "code",
      "metadata": {
        "id": "ua_-eJmVu74F",
        "colab_type": "code",
        "outputId": "376ba60a-fe87-41a6-ade8-9795ac1b7ebf",
        "colab": {
          "base_uri": "https://localhost:8080/",
          "height": 34
        }
      },
      "source": [
        "im1 = load_img(img_dir+'/23.jpg')\n",
        "im1_array = img_to_array(im1)\n",
        "im1_array.shape"
      ],
      "execution_count": 59,
      "outputs": [
        {
          "output_type": "execute_result",
          "data": {
            "text/plain": [
              "(224, 224, 3)"
            ]
          },
          "metadata": {
            "tags": []
          },
          "execution_count": 59
        }
      ]
    },
    {
      "cell_type": "code",
      "metadata": {
        "id": "wHfeJn7qu74J",
        "colab_type": "code",
        "colab": {}
      },
      "source": [
        "# x = np.zeros(shape = [1646, 224, 224, 3])"
      ],
      "execution_count": 0,
      "outputs": []
    },
    {
      "cell_type": "code",
      "metadata": {
        "id": "rXEWW3XAu74M",
        "colab_type": "code",
        "colab": {}
      },
      "source": [
        "# for i, img in enumerate(train_img['image_names'].values):\n",
        "#     x[i] = img_to_array(load_img('data/images/'+img))"
      ],
      "execution_count": 0,
      "outputs": []
    },
    {
      "cell_type": "markdown",
      "metadata": {
        "id": "-Y4JA5diu74Q",
        "colab_type": "text"
      },
      "source": [
        "### Load image using generators"
      ]
    },
    {
      "cell_type": "code",
      "metadata": {
        "id": "TmGRPjQmu74R",
        "colab_type": "code",
        "colab": {}
      },
      "source": [
        "datagen = ImageDataGenerator(rescale=1./255.,\n",
        "                             validation_split=0.25,\n",
        "                             rotation_range=30,\n",
        "                             width_shift_range=0.2,\n",
        "                             height_shift_range=0.2,\n",
        "                             shear_range=0.2,\n",
        "                             zoom_range=0.2,\n",
        "                             channel_shift_range=0.2,\n",
        "                             horizontal_flip=True,\n",
        "                             vertical_flip=True)"
      ],
      "execution_count": 0,
      "outputs": []
    },
    {
      "cell_type": "code",
      "metadata": {
        "id": "pp3mYAayu74U",
        "colab_type": "code",
        "outputId": "dcbc5305-19cf-4ad7-edb8-bd02b67f9d7f",
        "colab": {
          "base_uri": "https://localhost:8080/",
          "height": 51
        }
      },
      "source": [
        "# train generator\n",
        "train_generator=datagen.flow_from_dataframe(dataframe=train_img,\n",
        "                                            directory=img_dir,\n",
        "                                            x_col=\"image_names\",\n",
        "                                            y_col=\"emergency_or_not\",\n",
        "                                            subset=\"training\",\n",
        "                                            batch_size=32,\n",
        "                                            seed=42,\n",
        "                                            shuffle=True,\n",
        "                                            class_mode=\"binary\",\n",
        "                                            target_size=(224,224),\n",
        "                                            color_mode='rgb')\n",
        "# validation data generator\n",
        "valid_generator=datagen.flow_from_dataframe(dataframe=train_img,\n",
        "                                            directory=img_dir,\n",
        "                                            x_col=\"image_names\",\n",
        "                                            y_col=\"emergency_or_not\",\n",
        "                                            subset=\"validation\",\n",
        "                                            batch_size=32,\n",
        "                                            seed=42,\n",
        "                                            shuffle=True,\n",
        "                                            class_mode=\"binary\",\n",
        "                                            target_size=(224,224),\n",
        "                                            color_mode='rgb')"
      ],
      "execution_count": 63,
      "outputs": [
        {
          "output_type": "stream",
          "text": [
            "Found 1235 validated image filenames belonging to 2 classes.\n",
            "Found 411 validated image filenames belonging to 2 classes.\n"
          ],
          "name": "stdout"
        }
      ]
    },
    {
      "cell_type": "code",
      "metadata": {
        "id": "QMTmCO9-u74Y",
        "colab_type": "code",
        "outputId": "fdc3e56b-365c-4331-d6b6-00ddc3670b9c",
        "colab": {
          "base_uri": "https://localhost:8080/",
          "height": 34
        }
      },
      "source": [
        "# test data generator\n",
        "test_datagen = ImageDataGenerator(rescale=1./255.,\n",
        "                             rotation_range=30,\n",
        "                             width_shift_range=0.2,\n",
        "                             height_shift_range=0.2,\n",
        "                             shear_range=0.2,\n",
        "                             zoom_range=0.2,\n",
        "                             channel_shift_range=0.2,\n",
        "                             horizontal_flip=True,\n",
        "                             vertical_flip=True)\n",
        "test_generator = test_datagen.flow_from_dataframe(dataframe=test_img,\n",
        "                                                  directory=img_dir,\n",
        "                                                  x_col=\"image_names\",\n",
        "                                                  y_col=None,\n",
        "                                                  batch_size=32,\n",
        "                                                  seed=42,\n",
        "                                                  shuffle=False,\n",
        "                                                  class_mode=None,\n",
        "                                                  target_size=(224,224),\n",
        "                                                  color_mode='rgb')"
      ],
      "execution_count": 64,
      "outputs": [
        {
          "output_type": "stream",
          "text": [
            "Found 706 validated image filenames.\n"
          ],
          "name": "stdout"
        }
      ]
    },
    {
      "cell_type": "markdown",
      "metadata": {
        "id": "H7l8uE6tu74c",
        "colab_type": "text"
      },
      "source": [
        "## CNN model"
      ]
    },
    {
      "cell_type": "code",
      "metadata": {
        "id": "bt4DezQ_u74e",
        "colab_type": "code",
        "colab": {}
      },
      "source": [
        "# # initiate sequential model\n",
        "# model = Sequential()\n",
        "# # add convolutional layer\n",
        "# # 16 sliding windows each of 3X3 size\n",
        "# # default step is 1X1\n",
        "# model.add(Conv2D(filters = 32,\n",
        "#                  kernel_size = (5, 5),\n",
        "#                  activation='relu',\n",
        "#                  input_shape = (224, 224,3),\n",
        "#                  padding='same'))\n",
        "# # add batch normalization to normalize output of the layer\n",
        "# model.add(BatchNormalization())\n",
        "# # add another convolutional layer\n",
        "# model.add(Conv2D(filters = 32,\n",
        "#                  kernel_size = (5, 5),\n",
        "#                  activation='relu',\n",
        "#                  padding='same'))\n",
        "# # batchnormalize\n",
        "# model.add(BatchNormalization())\n",
        "# # add maxpooling layer\n",
        "# # this layer picks max value for every 2X2 window\n",
        "# model.add(MaxPool2D(pool_size=(2,2)))\n",
        "# # add dropout layer\n",
        "# model.add(Dropout(0.3))\n",
        "# # repeat above sequence once more\n",
        "# model.add(Conv2D(filters = 64,\n",
        "#                  kernel_size = (5, 5),\n",
        "#                  activation='relu',\n",
        "#                  padding='same'))\n",
        "# model.add(BatchNormalization())\n",
        "# model.add(Conv2D(filters = 64,\n",
        "#                  kernel_size = (5, 5),\n",
        "#                  activation='relu',\n",
        "#                  padding='same'))\n",
        "# model.add(BatchNormalization())\n",
        "# model.add(MaxPool2D(pool_size=(2,2)))\n",
        "# model.add(Dropout(0.3))\n",
        "# # another pair of convolutional layers\n",
        "# model.add(Conv2D(filters = 128,\n",
        "#                  kernel_size = (5, 5),\n",
        "#                  activation='relu',\n",
        "#                  padding='same'))\n",
        "# model.add(BatchNormalization())\n",
        "# model.add(Conv2D(filters = 128,\n",
        "#                  kernel_size = (5, 5),\n",
        "#                  activation='relu',\n",
        "#                  padding='same'))\n",
        "# model.add(BatchNormalization())\n",
        "# model.add(Conv2D(filters = 128,\n",
        "#                  kernel_size = (5, 5),\n",
        "#                  activation='relu',\n",
        "#                  padding='same'))\n",
        "# model.add(BatchNormalization())\n",
        "# model.add(MaxPool2D(pool_size=(2,2)))\n",
        "# model.add(Dropout(0.3))\n",
        "# # flatten cnn layers\n",
        "# model.add(Flatten())\n",
        "# # add dense layer\n",
        "# model.add(Dense(512, activation='relu'))\n",
        "# model.add(Dropout(0.3))\n",
        "# model.add(Dense(256, activation='relu'))\n",
        "# model.add(Dropout(0.3))\n",
        "# # finally add a softmax layer which will predict probability of each class\n",
        "# model.add(Dense(1, activation='sigmoid'))\n",
        "# # print model summary\n",
        "# model.summary()\n",
        "\n",
        "# # compile model\n",
        "# model.compile(loss='binary_crossentropy',\n",
        "#              optimizer='adam',\n",
        "#              metrics=['accuracy'])"
      ],
      "execution_count": 0,
      "outputs": []
    },
    {
      "cell_type": "markdown",
      "metadata": {
        "id": "jI9f9fQRHuxG",
        "colab_type": "text"
      },
      "source": [
        "## InceptionV3"
      ]
    },
    {
      "cell_type": "code",
      "metadata": {
        "id": "k-gr93HIHzr-",
        "colab_type": "code",
        "outputId": "22e093cb-68b0-4728-8f58-38f112f7f818",
        "colab": {
          "base_uri": "https://localhost:8080/",
          "height": 391
        }
      },
      "source": [
        "# Setup transfer learning model\n",
        "\n",
        "# # load model without classifier layers\n",
        "# base_model = VGG16(include_top=False,\n",
        "#                    input_tensor=Input(shape=(224, 224, 3)),\n",
        "#                    weights='imagenet')\n",
        "# # add new classifier layers\n",
        "# flat1 = Flatten()(base_model.outputs)\n",
        "# #flat1 = GlobalAveragePooling2D()(flat1)\n",
        "# class1 = Dense(256, activation='relu')(flat1)\n",
        "# output = Dense(1, activation='sigmoid')(class1)\n",
        "# # define new model\n",
        "# model = Model(inputs=base_model.inputs, outputs=output)\n",
        "# # summarize\n",
        "# model.summary()\n",
        "\n",
        "# # first: train only the top layers (which were randomly initialized)\n",
        "# # i.e. freeze all convolutional ResNet50 layers\n",
        "# for layer in base_model.layers:\n",
        "#     layer.trainable = False\n",
        "\n",
        "model = Sequential()\n",
        "# NOTE that this layer will be set below as NOT TRAINABLE, i.e., use it as is\n",
        "model.add(InceptionV3(include_top = False, input_shape = (224,224,3)))\n",
        "# model.add(GlobalAveragePooling2D())\n",
        "model.add(Flatten())\n",
        "# 2nd layer as Dense for 2-class classification, i.e., dog or cat using SoftMax activation\n",
        "model.add(Dense(1024, activation = 'relu'))\n",
        "model.add(Dropout(0.3))\n",
        "model.add(Dense(512, activation = 'relu'))\n",
        "model.add(Dropout(0.3))\n",
        "model.add(Dense(1, activation = 'sigmoid'))\n",
        "\n",
        "# Say not to train first layer (ResNet) model as it is already trained\n",
        "# model.layers[0].trainable = False\n",
        "model.summary()\n",
        "# optimizer\n",
        "opt = adam(learning_rate=0.0001)\n",
        "# compile model\n",
        "model.compile(loss='binary_crossentropy',\n",
        "             optimizer=opt,\n",
        "             metrics=['accuracy'])"
      ],
      "execution_count": 66,
      "outputs": [
        {
          "output_type": "stream",
          "text": [
            "Model: \"sequential_6\"\n",
            "_________________________________________________________________\n",
            "Layer (type)                 Output Shape              Param #   \n",
            "=================================================================\n",
            "inception_v3 (Model)         (None, 5, 5, 2048)        21802784  \n",
            "_________________________________________________________________\n",
            "flatten_5 (Flatten)          (None, 51200)             0         \n",
            "_________________________________________________________________\n",
            "dense_13 (Dense)             (None, 1024)              52429824  \n",
            "_________________________________________________________________\n",
            "dropout_9 (Dropout)          (None, 1024)              0         \n",
            "_________________________________________________________________\n",
            "dense_14 (Dense)             (None, 512)               524800    \n",
            "_________________________________________________________________\n",
            "dropout_10 (Dropout)         (None, 512)               0         \n",
            "_________________________________________________________________\n",
            "dense_15 (Dense)             (None, 1)                 513       \n",
            "=================================================================\n",
            "Total params: 74,757,921\n",
            "Trainable params: 74,723,489\n",
            "Non-trainable params: 34,432\n",
            "_________________________________________________________________\n"
          ],
          "name": "stdout"
        }
      ]
    },
    {
      "cell_type": "markdown",
      "metadata": {
        "id": "m7ROY9Nmu74i",
        "colab_type": "text"
      },
      "source": [
        "## Train CNN model"
      ]
    },
    {
      "cell_type": "code",
      "metadata": {
        "id": "7BX_xfORu74j",
        "colab_type": "code",
        "colab": {}
      },
      "source": [
        "STEP_SIZE_TRAIN = train_generator.n//train_generator.batch_size\n",
        "STEP_SIZE_VALID = valid_generator.n//valid_generator.batch_size\n",
        "STEP_SIZE_TEST=test_generator.n//test_generator.batch_size"
      ],
      "execution_count": 0,
      "outputs": []
    },
    {
      "cell_type": "code",
      "metadata": {
        "id": "7A7ZVpwAJjLa",
        "colab_type": "code",
        "outputId": "f8e46c71-e624-4d7e-fa83-4118882e650f",
        "colab": {
          "base_uri": "https://localhost:8080/",
          "height": 714
        }
      },
      "source": [
        "model.fit_generator(generator=train_generator,\n",
        "                    validation_data=valid_generator,\n",
        "                    epochs=20)"
      ],
      "execution_count": 68,
      "outputs": [
        {
          "output_type": "stream",
          "text": [
            "Epoch 1/20\n",
            "39/39 [==============================] - 49s 1s/step - loss: 0.8772 - accuracy: 0.6923 - val_loss: 0.3390 - val_accuracy: 0.8686\n",
            "Epoch 2/20\n",
            "39/39 [==============================] - 23s 598ms/step - loss: 0.3774 - accuracy: 0.8526 - val_loss: 0.3463 - val_accuracy: 0.8662\n",
            "Epoch 3/20\n",
            "39/39 [==============================] - 25s 644ms/step - loss: 0.3029 - accuracy: 0.8866 - val_loss: 0.2148 - val_accuracy: 0.9197\n",
            "Epoch 4/20\n",
            "39/39 [==============================] - 25s 639ms/step - loss: 0.2635 - accuracy: 0.8980 - val_loss: 1.3013 - val_accuracy: 0.9270\n",
            "Epoch 5/20\n",
            "39/39 [==============================] - 25s 636ms/step - loss: 0.2016 - accuracy: 0.9223 - val_loss: 0.1759 - val_accuracy: 0.8978\n",
            "Epoch 6/20\n",
            "39/39 [==============================] - 25s 640ms/step - loss: 0.1562 - accuracy: 0.9344 - val_loss: 0.0420 - val_accuracy: 0.9270\n",
            "Epoch 7/20\n",
            "39/39 [==============================] - 25s 633ms/step - loss: 0.1239 - accuracy: 0.9603 - val_loss: 0.4397 - val_accuracy: 0.9270\n",
            "Epoch 8/20\n",
            "39/39 [==============================] - 25s 643ms/step - loss: 0.1373 - accuracy: 0.9514 - val_loss: 1.1285 - val_accuracy: 0.8832\n",
            "Epoch 9/20\n",
            "39/39 [==============================] - 25s 638ms/step - loss: 0.1050 - accuracy: 0.9595 - val_loss: 0.0197 - val_accuracy: 0.9367\n",
            "Epoch 10/20\n",
            "39/39 [==============================] - 25s 635ms/step - loss: 0.1037 - accuracy: 0.9676 - val_loss: 0.0594 - val_accuracy: 0.9416\n",
            "Epoch 11/20\n",
            "39/39 [==============================] - 25s 636ms/step - loss: 0.0929 - accuracy: 0.9652 - val_loss: 0.5036 - val_accuracy: 0.9124\n",
            "Epoch 12/20\n",
            "39/39 [==============================] - 24s 628ms/step - loss: 0.1137 - accuracy: 0.9628 - val_loss: 0.0889 - val_accuracy: 0.9197\n",
            "Epoch 13/20\n",
            "39/39 [==============================] - 25s 635ms/step - loss: 0.0854 - accuracy: 0.9684 - val_loss: 0.5317 - val_accuracy: 0.9392\n",
            "Epoch 14/20\n",
            "39/39 [==============================] - 25s 637ms/step - loss: 0.0780 - accuracy: 0.9741 - val_loss: 0.0173 - val_accuracy: 0.9319\n",
            "Epoch 15/20\n",
            "39/39 [==============================] - 24s 628ms/step - loss: 0.0480 - accuracy: 0.9814 - val_loss: 0.0055 - val_accuracy: 0.9343\n",
            "Epoch 16/20\n",
            "39/39 [==============================] - 25s 633ms/step - loss: 0.0566 - accuracy: 0.9781 - val_loss: 0.5423 - val_accuracy: 0.9246\n",
            "Epoch 17/20\n",
            "39/39 [==============================] - 24s 626ms/step - loss: 0.0589 - accuracy: 0.9781 - val_loss: 0.4651 - val_accuracy: 0.9246\n",
            "Epoch 18/20\n",
            "39/39 [==============================] - 24s 623ms/step - loss: 0.0747 - accuracy: 0.9749 - val_loss: 0.0613 - val_accuracy: 0.9246\n",
            "Epoch 19/20\n",
            "39/39 [==============================] - 24s 628ms/step - loss: 0.0734 - accuracy: 0.9709 - val_loss: 0.2742 - val_accuracy: 0.9221\n",
            "Epoch 20/20\n",
            "39/39 [==============================] - 24s 627ms/step - loss: 0.0921 - accuracy: 0.9725 - val_loss: 0.0037 - val_accuracy: 0.9319\n"
          ],
          "name": "stdout"
        },
        {
          "output_type": "execute_result",
          "data": {
            "text/plain": [
              "<keras.callbacks.callbacks.History at 0x7f1dabf83d30>"
            ]
          },
          "metadata": {
            "tags": []
          },
          "execution_count": 68
        }
      ]
    },
    {
      "cell_type": "code",
      "metadata": {
        "id": "TD3XuY-T03nW",
        "colab_type": "code",
        "outputId": "14ad0eff-3cca-4b8c-a10b-b706774c8e62",
        "colab": {
          "base_uri": "https://localhost:8080/",
          "height": 34
        }
      },
      "source": [
        "model.evaluate_generator(generator=valid_generator,\n",
        "                         steps=STEP_SIZE_TEST)"
      ],
      "execution_count": 69,
      "outputs": [
        {
          "output_type": "execute_result",
          "data": {
            "text/plain": [
              "[0.8189684152603149, 0.9399141669273376]"
            ]
          },
          "metadata": {
            "tags": []
          },
          "execution_count": 69
        }
      ]
    },
    {
      "cell_type": "markdown",
      "metadata": {
        "id": "05r9ORlH5D6Y",
        "colab_type": "text"
      },
      "source": [
        "## Submissions"
      ]
    },
    {
      "cell_type": "code",
      "metadata": {
        "id": "aQ5lp9Ugw4NO",
        "colab_type": "code",
        "outputId": "4098c429-9df9-4dec-d644-af069948dcff",
        "colab": {
          "base_uri": "https://localhost:8080/",
          "height": 408
        }
      },
      "source": [
        "# image genrator\n",
        "datagen_final = ImageDataGenerator(rescale=1./255.,\n",
        "                             rotation_range=30,\n",
        "                             width_shift_range=0.2,\n",
        "                             height_shift_range=0.2,\n",
        "                             shear_range=0.2,\n",
        "                             zoom_range=0.2,\n",
        "                             channel_shift_range=0.2,\n",
        "                             horizontal_flip=True,\n",
        "                             vertical_flip=True)\n",
        "# train generator\n",
        "train_generator_final = datagen_final.flow_from_dataframe(dataframe=train_img,\n",
        "                                            directory=img_dir,\n",
        "                                            x_col=\"image_names\",\n",
        "                                            y_col=\"emergency_or_not\",\n",
        "                                            batch_size=32,\n",
        "                                            seed=42,\n",
        "                                            shuffle=True,\n",
        "                                            class_mode=\"binary\",\n",
        "                                            target_size=(224,224),\n",
        "                                            color_mode='rgb')\n",
        "# final model\n",
        "final_model = Sequential()\n",
        "# NOTE that this layer will be set below as NOT TRAINABLE, i.e., use it as is\n",
        "final_model.add(InceptionV3(include_top = False, input_shape = (224,224,3)))\n",
        "# model.add(GlobalAveragePooling2D())\n",
        "final_model.add(Flatten())\n",
        "# 2nd layer as Dense for 2-class classification, i.e., dog or cat using SoftMax activation\n",
        "final_model.add(Dense(1024, activation = 'relu'))\n",
        "final_model.add(Dropout(0.3))\n",
        "final_model.add(Dense(512, activation = 'relu'))\n",
        "final_model.add(Dropout(0.3))\n",
        "final_model.add(Dense(1, activation = 'sigmoid'))\n",
        "\n",
        "# Say not to train first layer (ResNet) model as it is already trained\n",
        "# model.layers[0].trainable = False\n",
        "final_model.summary()\n",
        "# optimizer\n",
        "opt = adam(learning_rate=0.0001)\n",
        "# compile model\n",
        "final_model.compile(loss='binary_crossentropy',\n",
        "             optimizer=opt,\n",
        "             metrics=['accuracy'])"
      ],
      "execution_count": 70,
      "outputs": [
        {
          "output_type": "stream",
          "text": [
            "Found 1646 validated image filenames belonging to 2 classes.\n",
            "Model: \"sequential_7\"\n",
            "_________________________________________________________________\n",
            "Layer (type)                 Output Shape              Param #   \n",
            "=================================================================\n",
            "inception_v3 (Model)         (None, 5, 5, 2048)        21802784  \n",
            "_________________________________________________________________\n",
            "flatten_6 (Flatten)          (None, 51200)             0         \n",
            "_________________________________________________________________\n",
            "dense_16 (Dense)             (None, 1024)              52429824  \n",
            "_________________________________________________________________\n",
            "dropout_11 (Dropout)         (None, 1024)              0         \n",
            "_________________________________________________________________\n",
            "dense_17 (Dense)             (None, 512)               524800    \n",
            "_________________________________________________________________\n",
            "dropout_12 (Dropout)         (None, 512)               0         \n",
            "_________________________________________________________________\n",
            "dense_18 (Dense)             (None, 1)                 513       \n",
            "=================================================================\n",
            "Total params: 74,757,921\n",
            "Trainable params: 74,723,489\n",
            "Non-trainable params: 34,432\n",
            "_________________________________________________________________\n"
          ],
          "name": "stdout"
        }
      ]
    },
    {
      "cell_type": "code",
      "metadata": {
        "id": "oe14al52x8ac",
        "colab_type": "code",
        "outputId": "b9f9a099-28b6-4a25-ebb7-c29a5923cb45",
        "colab": {
          "base_uri": "https://localhost:8080/",
          "height": 714
        }
      },
      "source": [
        "final_model.fit_generator(generator=train_generator_final, epochs=20)"
      ],
      "execution_count": 71,
      "outputs": [
        {
          "output_type": "stream",
          "text": [
            "Epoch 1/20\n",
            "52/52 [==============================] - 46s 884ms/step - loss: 0.6771 - accuracy: 0.7199\n",
            "Epoch 2/20\n",
            "52/52 [==============================] - 28s 545ms/step - loss: 0.3033 - accuracy: 0.8797\n",
            "Epoch 3/20\n",
            "52/52 [==============================] - 28s 530ms/step - loss: 0.2225 - accuracy: 0.9192\n",
            "Epoch 4/20\n",
            "52/52 [==============================] - 28s 540ms/step - loss: 0.1896 - accuracy: 0.9289\n",
            "Epoch 5/20\n",
            "52/52 [==============================] - 28s 532ms/step - loss: 0.1553 - accuracy: 0.9362\n",
            "Epoch 6/20\n",
            "52/52 [==============================] - 28s 536ms/step - loss: 0.1476 - accuracy: 0.9490\n",
            "Epoch 7/20\n",
            "52/52 [==============================] - 27s 528ms/step - loss: 0.1388 - accuracy: 0.9441\n",
            "Epoch 8/20\n",
            "52/52 [==============================] - 28s 537ms/step - loss: 0.1070 - accuracy: 0.9581\n",
            "Epoch 9/20\n",
            "52/52 [==============================] - 28s 531ms/step - loss: 0.1014 - accuracy: 0.9642\n",
            "Epoch 10/20\n",
            "52/52 [==============================] - 27s 528ms/step - loss: 0.0869 - accuracy: 0.9684\n",
            "Epoch 11/20\n",
            "52/52 [==============================] - 28s 529ms/step - loss: 0.0923 - accuracy: 0.9672\n",
            "Epoch 12/20\n",
            "52/52 [==============================] - 27s 526ms/step - loss: 0.1176 - accuracy: 0.9623\n",
            "Epoch 13/20\n",
            "52/52 [==============================] - 28s 531ms/step - loss: 0.0685 - accuracy: 0.9769\n",
            "Epoch 14/20\n",
            "52/52 [==============================] - 28s 531ms/step - loss: 0.0505 - accuracy: 0.9800\n",
            "Epoch 15/20\n",
            "52/52 [==============================] - 28s 531ms/step - loss: 0.0647 - accuracy: 0.9714\n",
            "Epoch 16/20\n",
            "52/52 [==============================] - 27s 521ms/step - loss: 0.0417 - accuracy: 0.9860\n",
            "Epoch 17/20\n",
            "52/52 [==============================] - 28s 533ms/step - loss: 0.0594 - accuracy: 0.9806\n",
            "Epoch 18/20\n",
            "52/52 [==============================] - 28s 529ms/step - loss: 0.0606 - accuracy: 0.9787\n",
            "Epoch 19/20\n",
            "52/52 [==============================] - 28s 531ms/step - loss: 0.0548 - accuracy: 0.9781\n",
            "Epoch 20/20\n",
            "52/52 [==============================] - 28s 531ms/step - loss: 0.0434 - accuracy: 0.9842\n"
          ],
          "name": "stdout"
        },
        {
          "output_type": "execute_result",
          "data": {
            "text/plain": [
              "<keras.callbacks.callbacks.History at 0x7f1da9616e10>"
            ]
          },
          "metadata": {
            "tags": []
          },
          "execution_count": 71
        }
      ]
    },
    {
      "cell_type": "code",
      "metadata": {
        "id": "I4mqr-EC6Ng3",
        "colab_type": "code",
        "outputId": "1930b0ca-063a-429d-f723-ee72a6d0df01",
        "colab": {
          "base_uri": "https://localhost:8080/",
          "height": 34
        }
      },
      "source": [
        "test_generator.reset()\n",
        "pred = final_model.predict_generator(test_generator,\n",
        "                             verbose=1)"
      ],
      "execution_count": 72,
      "outputs": [
        {
          "output_type": "stream",
          "text": [
            "23/23 [==============================] - 11s 469ms/step\n"
          ],
          "name": "stdout"
        }
      ]
    },
    {
      "cell_type": "code",
      "metadata": {
        "id": "YC4AEBogBEGb",
        "colab_type": "code",
        "outputId": "25436614-dbac-4b34-e32b-c34f274db469",
        "colab": {
          "base_uri": "https://localhost:8080/",
          "height": 34
        }
      },
      "source": [
        "pred.shape"
      ],
      "execution_count": 73,
      "outputs": [
        {
          "output_type": "execute_result",
          "data": {
            "text/plain": [
              "(706, 1)"
            ]
          },
          "metadata": {
            "tags": []
          },
          "execution_count": 73
        }
      ]
    },
    {
      "cell_type": "code",
      "metadata": {
        "id": "Jc8MWeub-I5S",
        "colab_type": "code",
        "outputId": "10329b32-75d3-438b-e3d5-4f2ed89f1fc1",
        "colab": {
          "base_uri": "https://localhost:8080/",
          "height": 187
        }
      },
      "source": [
        "pred[pred >= 0.5] = 1\n",
        "pred[pred < 0.5] = 0\n",
        "pred[:10]"
      ],
      "execution_count": 74,
      "outputs": [
        {
          "output_type": "execute_result",
          "data": {
            "text/plain": [
              "array([[0.],\n",
              "       [1.],\n",
              "       [0.],\n",
              "       [1.],\n",
              "       [0.],\n",
              "       [1.],\n",
              "       [0.],\n",
              "       [1.],\n",
              "       [0.],\n",
              "       [0.]], dtype=float32)"
            ]
          },
          "metadata": {
            "tags": []
          },
          "execution_count": 74
        }
      ]
    },
    {
      "cell_type": "code",
      "metadata": {
        "id": "DC4QlKR_AXtj",
        "colab_type": "code",
        "colab": {}
      },
      "source": [
        "pred = pred.ravel()"
      ],
      "execution_count": 0,
      "outputs": []
    },
    {
      "cell_type": "code",
      "metadata": {
        "id": "td24k9gR6QAO",
        "colab_type": "code",
        "colab": {}
      },
      "source": [
        "# labels = (train_generator.class_indices)\n",
        "# labels = dict((v,k) for k,v in labels.items())\n",
        "# predictions = [labels[k] for k in predicted_class_indices]"
      ],
      "execution_count": 0,
      "outputs": []
    },
    {
      "cell_type": "code",
      "metadata": {
        "id": "FL8Sjyat63oz",
        "colab_type": "code",
        "colab": {}
      },
      "source": [
        "out_dir = '/content/drive/My Drive/JantaHack Computer Vision/'\n",
        "filenames=test_generator.filenames\n",
        "results=pd.DataFrame({\"image_names\":filenames,\n",
        "                      \"emergency_or_not\":pred})\n",
        "results.to_csv(out_dir+\"Submissions5.csv\",index=False)"
      ],
      "execution_count": 0,
      "outputs": []
    },
    {
      "cell_type": "code",
      "metadata": {
        "id": "eutOELGVAv94",
        "colab_type": "code",
        "colab": {}
      },
      "source": [
        ""
      ],
      "execution_count": 0,
      "outputs": []
    }
  ]
}