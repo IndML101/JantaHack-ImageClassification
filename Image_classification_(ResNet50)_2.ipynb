{
 "cells": [
  {
   "cell_type": "markdown",
   "metadata": {
    "colab_type": "text",
    "id": "fnOjHBWru73m"
   },
   "source": [
    "# Image categorisation"
   ]
  },
  {
   "cell_type": "markdown",
   "metadata": {
    "colab_type": "text",
    "id": "ARdIC02fu73n"
   },
   "source": [
    "*  JantaHack Computer Vision by analyticsvidhya\n",
    "*  Classify emergency and non-emergency vehicle from images"
   ]
  },
  {
   "cell_type": "code",
   "execution_count": 3,
   "metadata": {},
   "outputs": [],
   "source": [
    "import os \n",
    "# os.environ[\"KERAS_BACKEND\"] = \"plaidml.keras.backend\""
   ]
  },
  {
   "cell_type": "code",
   "execution_count": 4,
   "metadata": {
    "colab": {},
    "colab_type": "code",
    "id": "r6ELWGzdu73o"
   },
   "outputs": [],
   "source": [
    "# import pandas as pd\n",
    "# import numpy as np\n",
    "# import random\n",
    "# import math\n",
    "# # from google.colab import drive\n",
    "# from sklearn.model_selection import train_test_split\n",
    "# from sklearn.metrics import confusion_matrix\n",
    "\n",
    "# from keras.preprocessing.image import ImageDataGenerator, load_img, img_to_array, array_to_img\n",
    "# from keras.models import Sequential\n",
    "# from keras.layers import Dense, Dropout, Activation, Flatten\n",
    "# from keras.layers import Conv2D, MaxPool2D, BatchNormalization\n",
    "# from keras.layers import Convolution2D, MaxPooling2D\n",
    "# from keras.utils.np_utils import to_categorical\n",
    "\n",
    "# from keras.applications.resnet50 import ResNet50\n",
    "# from keras.applications.vgg16 import VGG16\n",
    "# from keras.models import Model, Sequential\n",
    "# from keras.layers import Input, Dense, GlobalAveragePooling2D\n",
    "# from keras.optimizers import Adam\n",
    "# from keras import backend as K\n",
    "\n",
    "# import seaborn as sns\n",
    "# from matplotlib import pyplot as plt"
   ]
  },
  {
   "cell_type": "code",
   "execution_count": 2,
   "metadata": {},
   "outputs": [
    {
     "name": "stdout",
     "output_type": "stream",
     "text": [
      "/home/gubberex/Documents/Notebooks/JanataHack/Computer Vision\n"
     ]
    }
   ],
   "source": [
    "!pwd"
   ]
  },
  {
   "cell_type": "code",
   "execution_count": 3,
   "metadata": {},
   "outputs": [],
   "source": [
    "import pandas as pd\n",
    "import numpy as np\n",
    "import random\n",
    "import math\n",
    "# from google.colab import drive\n",
    "from sklearn.model_selection import train_test_split\n",
    "from sklearn.metrics import confusion_matrix\n",
    "\n",
    "from tensorflow.keras.preprocessing.image import ImageDataGenerator, load_img, img_to_array, array_to_img\n",
    "from tensorflow.keras.models import Sequential\n",
    "from tensorflow.keras.layers import Dense, Dropout, Activation, Flatten\n",
    "from tensorflow.keras.layers import Conv2D, MaxPool2D, BatchNormalization\n",
    "from tensorflow.keras.layers import Convolution2D, MaxPooling2D\n",
    "# from tensorflow.keras.utils.np_utils import to_categorical\n",
    "\n",
    "from tensorflow.keras.applications.resnet50 import ResNet50\n",
    "from tensorflow.keras.applications.vgg16 import VGG16\n",
    "from tensorflow.keras.models import Model, Sequential\n",
    "from tensorflow.keras.layers import Input, Dense, GlobalAveragePooling2D\n",
    "from tensorflow.keras.optimizers import Adam\n",
    "from tensorflow.keras import backend as K\n",
    "\n",
    "import seaborn as sns\n",
    "from matplotlib import pyplot as plt"
   ]
  },
  {
   "cell_type": "code",
   "execution_count": 6,
   "metadata": {
    "colab": {},
    "colab_type": "code",
    "id": "Lu1srAbWu73w"
   },
   "outputs": [],
   "source": [
    "# numpy random number geneartor seed\n",
    "# for reproducibility\n",
    "np.random.seed(123)\n",
    "\n",
    "# set plot rc parameters\n",
    "# jtplot.style(grid=False)\n",
    "plt.rcParams['figure.facecolor'] = 'white'\n",
    "plt.rcParams['axes.facecolor'] = '#232323'\n",
    "#plt.rcParams['axes.edgecolor'] = '#FFFFFF'\n",
    "plt.rcParams['figure.figsize'] = 10, 7\n",
    "plt.rcParams['legend.loc'] = 'best'\n",
    "plt.rcParams['legend.framealpha'] = 0.2\n",
    "plt.rcParams['text.color'] = '#666666'\n",
    "plt.rcParams['axes.labelcolor'] = '#666666'\n",
    "plt.rcParams['axes.labelsize'] = 14\n",
    "plt.rcParams['axes.titlesize'] = 16\n",
    "plt.rcParams['xtick.color'] = '#666666'\n",
    "plt.rcParams['xtick.labelsize'] = 14\n",
    "plt.rcParams['ytick.color'] = '#666666'\n",
    "plt.rcParams['ytick.labelsize'] = 14\n",
    "\n",
    "# plt.rcParams['font.size'] = 16\n",
    "\n",
    "sns.color_palette('dark')\n",
    "%matplotlib inline"
   ]
  },
  {
   "cell_type": "markdown",
   "metadata": {
    "colab_type": "text",
    "id": "6xhpQuOsu731"
   },
   "source": [
    "## Load data"
   ]
  },
  {
   "cell_type": "code",
   "execution_count": 7,
   "metadata": {
    "colab": {
     "base_uri": "https://localhost:8080/",
     "height": 122
    },
    "colab_type": "code",
    "id": "JTuKfmiWv9CJ",
    "outputId": "f15a054f-d2ce-4caa-ab60-402fec5109aa"
   },
   "outputs": [
    {
     "ename": "NameError",
     "evalue": "name 'drive' is not defined",
     "output_type": "error",
     "traceback": [
      "\u001b[0;31m---------------------------------------------------------------------------\u001b[0m",
      "\u001b[0;31mNameError\u001b[0m                                 Traceback (most recent call last)",
      "\u001b[0;32m<ipython-input-7-3b8a479202a4>\u001b[0m in \u001b[0;36m<module>\u001b[0;34m\u001b[0m\n\u001b[0;32m----> 1\u001b[0;31m \u001b[0mdrive\u001b[0m\u001b[0;34m.\u001b[0m\u001b[0mmount\u001b[0m\u001b[0;34m(\u001b[0m\u001b[0;34m'/content/drive'\u001b[0m\u001b[0;34m)\u001b[0m\u001b[0;34m\u001b[0m\u001b[0;34m\u001b[0m\u001b[0m\n\u001b[0m",
      "\u001b[0;31mNameError\u001b[0m: name 'drive' is not defined"
     ]
    }
   ],
   "source": [
    "drive.mount('/content/drive')"
   ]
  },
  {
   "cell_type": "code",
   "execution_count": 8,
   "metadata": {
    "colab": {},
    "colab_type": "code",
    "id": "DF3YeaWPy1UG"
   },
   "outputs": [],
   "source": [
    "data_dir = 'data'\n",
    "img_dir = 'data/images'"
   ]
  },
  {
   "cell_type": "code",
   "execution_count": 9,
   "metadata": {
    "colab": {
     "base_uri": "https://localhost:8080/",
     "height": 34
    },
    "colab_type": "code",
    "id": "DR1enKVmu732",
    "outputId": "88211211-505e-48eb-d565-b046ac93c9cf"
   },
   "outputs": [
    {
     "data": {
      "text/plain": [
       "((1646, 2), (706, 1))"
      ]
     },
     "execution_count": 9,
     "metadata": {},
     "output_type": "execute_result"
    }
   ],
   "source": [
    "train_img = pd.read_csv(data_dir+'/train.csv')\n",
    "test_img = pd.read_csv(data_dir+'/test_vc2kHdQ.csv')\n",
    "train_img.shape, test_img.shape"
   ]
  },
  {
   "cell_type": "code",
   "execution_count": 10,
   "metadata": {
    "colab": {},
    "colab_type": "code",
    "id": "tSsgPQX5u736"
   },
   "outputs": [],
   "source": [
    "train_img['emergency_or_not'] = train_img['emergency_or_not'].apply(lambda x: str(x))"
   ]
  },
  {
   "cell_type": "code",
   "execution_count": 11,
   "metadata": {
    "colab": {
     "base_uri": "https://localhost:8080/",
     "height": 204
    },
    "colab_type": "code",
    "id": "7wLHo4FZu73-",
    "outputId": "9299907b-6e3b-4721-ec01-3eee0f7172aa"
   },
   "outputs": [
    {
     "data": {
      "text/html": [
       "<div>\n",
       "<style scoped>\n",
       "    .dataframe tbody tr th:only-of-type {\n",
       "        vertical-align: middle;\n",
       "    }\n",
       "\n",
       "    .dataframe tbody tr th {\n",
       "        vertical-align: top;\n",
       "    }\n",
       "\n",
       "    .dataframe thead th {\n",
       "        text-align: right;\n",
       "    }\n",
       "</style>\n",
       "<table border=\"1\" class=\"dataframe\">\n",
       "  <thead>\n",
       "    <tr style=\"text-align: right;\">\n",
       "      <th></th>\n",
       "      <th>image_names</th>\n",
       "      <th>emergency_or_not</th>\n",
       "    </tr>\n",
       "  </thead>\n",
       "  <tbody>\n",
       "    <tr>\n",
       "      <th>0</th>\n",
       "      <td>1503.jpg</td>\n",
       "      <td>0</td>\n",
       "    </tr>\n",
       "    <tr>\n",
       "      <th>1</th>\n",
       "      <td>1420.jpg</td>\n",
       "      <td>0</td>\n",
       "    </tr>\n",
       "    <tr>\n",
       "      <th>2</th>\n",
       "      <td>1764.jpg</td>\n",
       "      <td>0</td>\n",
       "    </tr>\n",
       "    <tr>\n",
       "      <th>3</th>\n",
       "      <td>1356.jpg</td>\n",
       "      <td>0</td>\n",
       "    </tr>\n",
       "    <tr>\n",
       "      <th>4</th>\n",
       "      <td>1117.jpg</td>\n",
       "      <td>0</td>\n",
       "    </tr>\n",
       "  </tbody>\n",
       "</table>\n",
       "</div>"
      ],
      "text/plain": [
       "  image_names emergency_or_not\n",
       "0    1503.jpg                0\n",
       "1    1420.jpg                0\n",
       "2    1764.jpg                0\n",
       "3    1356.jpg                0\n",
       "4    1117.jpg                0"
      ]
     },
     "execution_count": 11,
     "metadata": {},
     "output_type": "execute_result"
    }
   ],
   "source": [
    "train_img.head()"
   ]
  },
  {
   "cell_type": "markdown",
   "metadata": {
    "colab_type": "text",
    "id": "P4aZZsnGu74D"
   },
   "source": [
    "## Load Image data"
   ]
  },
  {
   "cell_type": "markdown",
   "metadata": {
    "colab_type": "text",
    "id": "dcYccZAiu74E"
   },
   "source": [
    "### Load image to array"
   ]
  },
  {
   "cell_type": "code",
   "execution_count": 12,
   "metadata": {
    "colab": {
     "base_uri": "https://localhost:8080/",
     "height": 34
    },
    "colab_type": "code",
    "id": "ua_-eJmVu74F",
    "outputId": "c7c2c4cb-7c2f-4e86-dd90-a091a0573e23"
   },
   "outputs": [
    {
     "data": {
      "text/plain": [
       "(224, 224, 3)"
      ]
     },
     "execution_count": 12,
     "metadata": {},
     "output_type": "execute_result"
    }
   ],
   "source": [
    "im1 = load_img(img_dir+'/23.jpg')\n",
    "im1_array = img_to_array(im1)\n",
    "im1_array.shape"
   ]
  },
  {
   "cell_type": "code",
   "execution_count": 13,
   "metadata": {
    "colab": {},
    "colab_type": "code",
    "id": "wHfeJn7qu74J"
   },
   "outputs": [],
   "source": [
    "# x = np.zeros(shape = [1646, 224, 224, 3])"
   ]
  },
  {
   "cell_type": "code",
   "execution_count": 14,
   "metadata": {
    "colab": {},
    "colab_type": "code",
    "id": "rXEWW3XAu74M"
   },
   "outputs": [],
   "source": [
    "# for i, img in enumerate(train_img['image_names'].values):\n",
    "#     x[i] = img_to_array(load_img('data/images/'+img))"
   ]
  },
  {
   "cell_type": "markdown",
   "metadata": {
    "colab_type": "text",
    "id": "-Y4JA5diu74Q"
   },
   "source": [
    "### Load image using generators"
   ]
  },
  {
   "cell_type": "code",
   "execution_count": 15,
   "metadata": {
    "colab": {},
    "colab_type": "code",
    "id": "TmGRPjQmu74R"
   },
   "outputs": [],
   "source": [
    "datagen = ImageDataGenerator(rescale=1./255.,\n",
    "                             validation_split=0.25)"
   ]
  },
  {
   "cell_type": "code",
   "execution_count": 16,
   "metadata": {
    "colab": {
     "base_uri": "https://localhost:8080/",
     "height": 51
    },
    "colab_type": "code",
    "id": "pp3mYAayu74U",
    "outputId": "8416dc7e-f621-452a-c0bc-71e51e91ae24"
   },
   "outputs": [
    {
     "name": "stdout",
     "output_type": "stream",
     "text": [
      "Found 1235 validated image filenames belonging to 2 classes.\n",
      "Found 411 validated image filenames belonging to 2 classes.\n"
     ]
    }
   ],
   "source": [
    "# train generator\n",
    "train_generator=datagen.flow_from_dataframe(dataframe=train_img,\n",
    "                                            directory=img_dir,\n",
    "                                            x_col=\"image_names\",\n",
    "                                            y_col=\"emergency_or_not\",\n",
    "                                            subset=\"training\",\n",
    "                                            batch_size=8,\n",
    "                                            seed=42,\n",
    "                                            shuffle=True,\n",
    "                                            class_mode=\"binary\",\n",
    "                                            target_size=(224,224),\n",
    "                                            color_mode='rgb')\n",
    "# validation data generator\n",
    "valid_generator=datagen.flow_from_dataframe(dataframe=train_img,\n",
    "                                            directory=img_dir,\n",
    "                                            x_col=\"image_names\",\n",
    "                                            y_col=\"emergency_or_not\",\n",
    "                                            subset=\"validation\",\n",
    "                                            batch_size=8,\n",
    "                                            seed=42,\n",
    "                                            shuffle=True,\n",
    "                                            class_mode=\"binary\",\n",
    "                                            target_size=(224,224),\n",
    "                                            color_mode='rgb')"
   ]
  },
  {
   "cell_type": "code",
   "execution_count": 17,
   "metadata": {
    "colab": {
     "base_uri": "https://localhost:8080/",
     "height": 34
    },
    "colab_type": "code",
    "id": "QMTmCO9-u74Y",
    "outputId": "4ddc0bd9-0020-4c2b-8ba0-5523c59494a2"
   },
   "outputs": [
    {
     "name": "stdout",
     "output_type": "stream",
     "text": [
      "Found 706 validated image filenames.\n"
     ]
    }
   ],
   "source": [
    "# test data generator\n",
    "test_datagen = ImageDataGenerator(rescale=1./255.)\n",
    "test_generator = test_datagen.flow_from_dataframe(dataframe=test_img,\n",
    "                                                  directory=img_dir,\n",
    "                                                  x_col=\"image_names\",\n",
    "                                                  y_col=None,\n",
    "                                                  batch_size=8,\n",
    "                                                  seed=42,\n",
    "                                                  shuffle=False,\n",
    "                                                  class_mode=None,\n",
    "                                                  target_size=(224,224),\n",
    "                                                  color_mode='rgb')"
   ]
  },
  {
   "cell_type": "markdown",
   "metadata": {
    "colab_type": "text",
    "id": "H7l8uE6tu74c"
   },
   "source": [
    "## CNN model"
   ]
  },
  {
   "cell_type": "code",
   "execution_count": 18,
   "metadata": {
    "colab": {},
    "colab_type": "code",
    "id": "bt4DezQ_u74e"
   },
   "outputs": [],
   "source": [
    "# # initiate sequential model\n",
    "# model = Sequential()\n",
    "# # add convolutional layer\n",
    "# # 16 sliding windows each of 3X3 size\n",
    "# # default step is 1X1\n",
    "# model.add(Conv2D(filters = 32,\n",
    "#                  kernel_size = (5, 5),\n",
    "#                  activation='relu',\n",
    "#                  input_shape = (224, 224,3),\n",
    "#                  padding='same'))\n",
    "# # add batch normalization to normalize output of the layer\n",
    "# model.add(BatchNormalization())\n",
    "# # add another convolutional layer\n",
    "# model.add(Conv2D(filters = 32,\n",
    "#                  kernel_size = (5, 5),\n",
    "#                  activation='relu',\n",
    "#                  padding='same'))\n",
    "# # batchnormalize\n",
    "# model.add(BatchNormalization())\n",
    "# # add maxpooling layer\n",
    "# # this layer picks max value for every 2X2 window\n",
    "# model.add(MaxPool2D(pool_size=(2,2)))\n",
    "# # add dropout layer\n",
    "# model.add(Dropout(0.3))\n",
    "# # repeat above sequence once more\n",
    "# model.add(Conv2D(filters = 64,\n",
    "#                  kernel_size = (5, 5),\n",
    "#                  activation='relu',\n",
    "#                  padding='same'))\n",
    "# model.add(BatchNormalization())\n",
    "# model.add(Conv2D(filters = 64,\n",
    "#                  kernel_size = (5, 5),\n",
    "#                  activation='relu',\n",
    "#                  padding='same'))\n",
    "# model.add(BatchNormalization())\n",
    "# model.add(MaxPool2D(pool_size=(2,2)))\n",
    "# model.add(Dropout(0.3))\n",
    "# # another pair of convolutional layers\n",
    "# model.add(Conv2D(filters = 128,\n",
    "#                  kernel_size = (5, 5),\n",
    "#                  activation='relu',\n",
    "#                  padding='same'))\n",
    "# model.add(BatchNormalization())\n",
    "# model.add(Conv2D(filters = 128,\n",
    "#                  kernel_size = (5, 5),\n",
    "#                  activation='relu',\n",
    "#                  padding='same'))\n",
    "# model.add(BatchNormalization())\n",
    "# model.add(Conv2D(filters = 128,\n",
    "#                  kernel_size = (5, 5),\n",
    "#                  activation='relu',\n",
    "#                  padding='same'))\n",
    "# model.add(BatchNormalization())\n",
    "# model.add(MaxPool2D(pool_size=(2,2)))\n",
    "# model.add(Dropout(0.3))\n",
    "# # flatten cnn layers\n",
    "# model.add(Flatten())\n",
    "# # add dense layer\n",
    "# model.add(Dense(512, activation='relu'))\n",
    "# model.add(Dropout(0.3))\n",
    "# model.add(Dense(256, activation='relu'))\n",
    "# model.add(Dropout(0.3))\n",
    "# # finally add a softmax layer which will predict probability of each class\n",
    "# model.add(Dense(1, activation='sigmoid'))\n",
    "# # print model summary\n",
    "# model.summary()\n",
    "\n",
    "# # compile model\n",
    "# model.compile(loss='binary_crossentropy',\n",
    "#              optimizer='adam',\n",
    "#              metrics=['accuracy'])"
   ]
  },
  {
   "cell_type": "markdown",
   "metadata": {
    "colab_type": "text",
    "id": "jI9f9fQRHuxG"
   },
   "source": [
    "## ResNet50"
   ]
  },
  {
   "cell_type": "code",
   "execution_count": 1,
   "metadata": {
    "colab": {
     "base_uri": "https://localhost:8080/",
     "height": 425
    },
    "colab_type": "code",
    "id": "k-gr93HIHzr-",
    "outputId": "c20f9779-2e95-4ad9-8b4d-0a8848aedafc"
   },
   "outputs": [
    {
     "ename": "NameError",
     "evalue": "name 'Sequential' is not defined",
     "output_type": "error",
     "traceback": [
      "\u001b[0;31m---------------------------------------------------------------------------\u001b[0m",
      "\u001b[0;31mNameError\u001b[0m                                 Traceback (most recent call last)",
      "\u001b[0;32m<ipython-input-1-cf9414402974>\u001b[0m in \u001b[0;36m<module>\u001b[0;34m\u001b[0m\n\u001b[1;32m     20\u001b[0m \u001b[0;31m#     layer.trainable = False\u001b[0m\u001b[0;34m\u001b[0m\u001b[0;34m\u001b[0m\u001b[0;34m\u001b[0m\u001b[0m\n\u001b[1;32m     21\u001b[0m \u001b[0;34m\u001b[0m\u001b[0m\n\u001b[0;32m---> 22\u001b[0;31m \u001b[0mmodel\u001b[0m \u001b[0;34m=\u001b[0m \u001b[0mSequential\u001b[0m\u001b[0;34m(\u001b[0m\u001b[0;34m)\u001b[0m\u001b[0;34m\u001b[0m\u001b[0;34m\u001b[0m\u001b[0m\n\u001b[0m\u001b[1;32m     23\u001b[0m \u001b[0;31m# NOTE that this layer will be set below as NOT TRAINABLE, i.e., use it as is\u001b[0m\u001b[0;34m\u001b[0m\u001b[0;34m\u001b[0m\u001b[0;34m\u001b[0m\u001b[0m\n\u001b[1;32m     24\u001b[0m \u001b[0mmodel\u001b[0m\u001b[0;34m.\u001b[0m\u001b[0madd\u001b[0m\u001b[0;34m(\u001b[0m\u001b[0mResNet50\u001b[0m\u001b[0;34m(\u001b[0m\u001b[0minclude_top\u001b[0m \u001b[0;34m=\u001b[0m \u001b[0;32mFalse\u001b[0m\u001b[0;34m,\u001b[0m \u001b[0minput_shape\u001b[0m \u001b[0;34m=\u001b[0m \u001b[0;34m(\u001b[0m\u001b[0;36m224\u001b[0m\u001b[0;34m,\u001b[0m\u001b[0;36m224\u001b[0m\u001b[0;34m,\u001b[0m\u001b[0;36m3\u001b[0m\u001b[0;34m)\u001b[0m\u001b[0;34m)\u001b[0m\u001b[0;34m)\u001b[0m\u001b[0;34m\u001b[0m\u001b[0;34m\u001b[0m\u001b[0m\n",
      "\u001b[0;31mNameError\u001b[0m: name 'Sequential' is not defined"
     ]
    }
   ],
   "source": [
    "# Setup transfer learning model\n",
    "\n",
    "# # load model without classifier layers\n",
    "# base_model = VGG16(include_top=False,\n",
    "#                    input_tensor=Input(shape=(224, 224, 3)),\n",
    "#                    weights='imagenet')\n",
    "# # add new classifier layers\n",
    "# flat1 = Flatten()(base_model.outputs)\n",
    "# #flat1 = GlobalAveragePooling2D()(flat1)\n",
    "# class1 = Dense(256, activation='relu')(flat1)\n",
    "# output = Dense(1, activation='sigmoid')(class1)\n",
    "# # define new model\n",
    "# model = Model(inputs=base_model.inputs, outputs=output)\n",
    "# # summarize\n",
    "# model.summary()\n",
    "\n",
    "# # first: train only the top layers (which were randomly initialized)\n",
    "# # i.e. freeze all convolutional ResNet50 layers\n",
    "# for layer in base_model.layers:\n",
    "#     layer.trainable = False\n",
    "\n",
    "model = Sequential()\n",
    "# NOTE that this layer will be set below as NOT TRAINABLE, i.e., use it as is\n",
    "model.add(ResNet50(include_top = False, input_shape = (224,224,3)))\n",
    "\n",
    "for layer in model.layers:\n",
    "    layer.trainable = False\n",
    "    \n",
    "# model.add(GlobalAveragePooling2D())    \n",
    "model.add(Flatten())\n",
    "# 2nd layer as Dense for 2-class classification, i.e., dog or cat using SoftMax activation\n",
    "model.add(Dense(1024, activation = 'relu'))\n",
    "model.add(Dropout(0.3))\n",
    "model.add(Dense(512, activation = 'relu'))\n",
    "model.add(Dropout(0.3))\n",
    "model.add(Dense(1, activation = 'sigmoid'))\n",
    "\n",
    "# Say not to train first layer (ResNet) model as it is already trained\n",
    "# model.layers[0].trainable = False\n",
    "model.summary()\n",
    "# optimizer\n",
    "opt = Adam(learning_rate=0.00001)\n",
    "# compile model\n",
    "model.compile(loss='binary_crossentropy',\n",
    "             optimizer=opt,\n",
    "             metrics=['accuracy'])"
   ]
  },
  {
   "cell_type": "markdown",
   "metadata": {
    "colab_type": "text",
    "id": "m7ROY9Nmu74i"
   },
   "source": [
    "## Train CNN model"
   ]
  },
  {
   "cell_type": "code",
   "execution_count": null,
   "metadata": {
    "colab": {},
    "colab_type": "code",
    "id": "7BX_xfORu74j"
   },
   "outputs": [],
   "source": [
    "STEP_SIZE_TRAIN = train_generator.n//train_generator.batch_size\n",
    "STEP_SIZE_VALID = valid_generator.n//valid_generator.batch_size\n",
    "STEP_SIZE_TEST=test_generator.n//test_generator.batch_size"
   ]
  },
  {
   "cell_type": "code",
   "execution_count": 2,
   "metadata": {
    "colab": {
     "base_uri": "https://localhost:8080/",
     "height": 374
    },
    "colab_type": "code",
    "id": "7A7ZVpwAJjLa",
    "outputId": "836fee89-89ee-4d4c-d86c-59dd18e4ed52"
   },
   "outputs": [
    {
     "ename": "NameError",
     "evalue": "name 'model' is not defined",
     "output_type": "error",
     "traceback": [
      "\u001b[0;31m---------------------------------------------------------------------------\u001b[0m",
      "\u001b[0;31mNameError\u001b[0m                                 Traceback (most recent call last)",
      "\u001b[0;32m<ipython-input-2-3eb9f3718a33>\u001b[0m in \u001b[0;36m<module>\u001b[0;34m\u001b[0m\n\u001b[0;32m----> 1\u001b[0;31m model.fit_generator(generator=train_generator,\n\u001b[0m\u001b[1;32m      2\u001b[0m                     \u001b[0mvalidation_data\u001b[0m\u001b[0;34m=\u001b[0m\u001b[0mvalid_generator\u001b[0m\u001b[0;34m,\u001b[0m\u001b[0;34m\u001b[0m\u001b[0;34m\u001b[0m\u001b[0m\n\u001b[1;32m      3\u001b[0m                     epochs=35)\n",
      "\u001b[0;31mNameError\u001b[0m: name 'model' is not defined"
     ]
    }
   ],
   "source": [
    "model.fit_generator(generator=train_generator,\n",
    "                    validation_data=valid_generator,\n",
    "                    epochs=10)"
   ]
  },
  {
   "cell_type": "code",
   "execution_count": 47,
   "metadata": {
    "colab": {
     "base_uri": "https://localhost:8080/",
     "height": 34
    },
    "colab_type": "code",
    "id": "TD3XuY-T03nW",
    "outputId": "d1b711b2-48a2-43df-a138-c0299d1e09cb"
   },
   "outputs": [
    {
     "data": {
      "text/plain": [
       "[0.057096172124147415, 0.9356223344802856]"
      ]
     },
     "execution_count": 47,
     "metadata": {
      "tags": []
     },
     "output_type": "execute_result"
    }
   ],
   "source": [
    "model.evaluate_generator(generator=valid_generator,\n",
    "                         steps=STEP_SIZE_TEST)"
   ]
  },
  {
   "cell_type": "markdown",
   "metadata": {
    "colab_type": "text",
    "id": "05r9ORlH5D6Y"
   },
   "source": [
    "## Submissions"
   ]
  },
  {
   "cell_type": "code",
   "execution_count": 48,
   "metadata": {
    "colab": {
     "base_uri": "https://localhost:8080/",
     "height": 442
    },
    "colab_type": "code",
    "id": "aQ5lp9Ugw4NO",
    "outputId": "2b3b25cb-003c-41bb-ca68-8e6aaff4e090"
   },
   "outputs": [
    {
     "name": "stdout",
     "output_type": "stream",
     "text": [
      "Found 1646 validated image filenames belonging to 2 classes.\n"
     ]
    },
    {
     "name": "stderr",
     "output_type": "stream",
     "text": [
      "/usr/local/lib/python3.6/dist-packages/keras_applications/resnet50.py:265: UserWarning: The output shape of `ResNet50(include_top=False)` has been changed since Keras 2.2.0.\n",
      "  warnings.warn('The output shape of `ResNet50(include_top=False)` '\n"
     ]
    },
    {
     "name": "stdout",
     "output_type": "stream",
     "text": [
      "Model: \"sequential_4\"\n",
      "_________________________________________________________________\n",
      "Layer (type)                 Output Shape              Param #   \n",
      "=================================================================\n",
      "resnet50 (Model)             (None, 7, 7, 2048)        23587712  \n",
      "_________________________________________________________________\n",
      "flatten_4 (Flatten)          (None, 100352)            0         \n",
      "_________________________________________________________________\n",
      "dense_10 (Dense)             (None, 1024)              102761472 \n",
      "_________________________________________________________________\n",
      "dropout_7 (Dropout)          (None, 1024)              0         \n",
      "_________________________________________________________________\n",
      "dense_11 (Dense)             (None, 512)               524800    \n",
      "_________________________________________________________________\n",
      "dropout_8 (Dropout)          (None, 512)               0         \n",
      "_________________________________________________________________\n",
      "dense_12 (Dense)             (None, 1)                 513       \n",
      "=================================================================\n",
      "Total params: 126,874,497\n",
      "Trainable params: 126,821,377\n",
      "Non-trainable params: 53,120\n",
      "_________________________________________________________________\n"
     ]
    }
   ],
   "source": [
    "# image genrator\n",
    "datagen_final = ImageDataGenerator(rescale=1./255.)\n",
    "# train generator\n",
    "train_generator_final = datagen_final.flow_from_dataframe(dataframe=train_img,\n",
    "                                            directory=img_dir,\n",
    "                                            x_col=\"image_names\",\n",
    "                                            y_col=\"emergency_or_not\",\n",
    "                                            batch_size=32,\n",
    "                                            seed=42,\n",
    "                                            shuffle=True,\n",
    "                                            class_mode=\"binary\",\n",
    "                                            target_size=(224,224),\n",
    "                                            color_mode='rgb')\n",
    "# final model\n",
    "final_model = Sequential()\n",
    "# NOTE that this layer will be set below as NOT TRAINABLE, i.e., use it as is\n",
    "final_model.add(ResNet50(include_top = False, input_shape = (224,224,3)))\n",
    "# model.add(GlobalAveragePooling2D())\n",
    "final_model.add(Flatten())\n",
    "# 2nd layer as Dense for 2-class classification, i.e., dog or cat using SoftMax activation\n",
    "final_model.add(Dense(1024, activation = 'relu'))\n",
    "final_model.add(Dropout(0.3))\n",
    "final_model.add(Dense(512, activation = 'relu'))\n",
    "final_model.add(Dropout(0.3))\n",
    "final_model.add(Dense(1, activation = 'sigmoid'))\n",
    "\n",
    "# Say not to train first layer (ResNet) model as it is already trained\n",
    "# model.layers[0].trainable = False\n",
    "final_model.summary()\n",
    "# optimizer\n",
    "opt = adam(learning_rate=0.00001)\n",
    "# compile model\n",
    "final_model.compile(loss='binary_crossentropy',\n",
    "             optimizer=opt,\n",
    "             metrics=['accuracy'])"
   ]
  },
  {
   "cell_type": "code",
   "execution_count": 49,
   "metadata": {
    "colab": {
     "base_uri": "https://localhost:8080/",
     "height": 1000
    },
    "colab_type": "code",
    "id": "oe14al52x8ac",
    "outputId": "ad752eef-a744-4f3b-fde2-ee42f1cfaa29"
   },
   "outputs": [
    {
     "name": "stdout",
     "output_type": "stream",
     "text": [
      "Epoch 1/35\n",
      "52/52 [==============================] - 36s 693ms/step - loss: 0.4483 - accuracy: 0.8232\n",
      "Epoch 2/35\n",
      "52/52 [==============================] - 20s 379ms/step - loss: 0.1083 - accuracy: 0.9587\n",
      "Epoch 3/35\n",
      "52/52 [==============================] - 20s 381ms/step - loss: 0.0400 - accuracy: 0.9897\n",
      "Epoch 4/35\n",
      "52/52 [==============================] - 20s 382ms/step - loss: 0.0297 - accuracy: 0.9903\n",
      "Epoch 5/35\n",
      "52/52 [==============================] - 20s 380ms/step - loss: 0.0221 - accuracy: 0.9945\n",
      "Epoch 6/35\n",
      "52/52 [==============================] - 20s 381ms/step - loss: 0.0171 - accuracy: 0.9964\n",
      "Epoch 7/35\n",
      "52/52 [==============================] - 20s 380ms/step - loss: 0.0156 - accuracy: 0.9957\n",
      "Epoch 8/35\n",
      "52/52 [==============================] - 20s 382ms/step - loss: 0.0080 - accuracy: 0.9976\n",
      "Epoch 9/35\n",
      "52/52 [==============================] - 20s 381ms/step - loss: 0.0190 - accuracy: 0.9957\n",
      "Epoch 10/35\n",
      "52/52 [==============================] - 20s 383ms/step - loss: 0.0086 - accuracy: 0.9976\n",
      "Epoch 11/35\n",
      "52/52 [==============================] - 20s 378ms/step - loss: 0.0105 - accuracy: 0.9988\n",
      "Epoch 12/35\n",
      "52/52 [==============================] - 20s 381ms/step - loss: 0.0123 - accuracy: 0.9964\n",
      "Epoch 13/35\n",
      "52/52 [==============================] - 20s 382ms/step - loss: 0.0105 - accuracy: 0.9957\n",
      "Epoch 14/35\n",
      "52/52 [==============================] - 20s 381ms/step - loss: 0.0063 - accuracy: 0.9976\n",
      "Epoch 15/35\n",
      "52/52 [==============================] - 20s 381ms/step - loss: 0.0049 - accuracy: 0.9976\n",
      "Epoch 16/35\n",
      "52/52 [==============================] - 20s 380ms/step - loss: 0.0062 - accuracy: 0.9982\n",
      "Epoch 17/35\n",
      "52/52 [==============================] - 20s 381ms/step - loss: 0.0109 - accuracy: 0.9957\n",
      "Epoch 18/35\n",
      "52/52 [==============================] - 20s 379ms/step - loss: 0.0050 - accuracy: 0.9982\n",
      "Epoch 19/35\n",
      "52/52 [==============================] - 20s 379ms/step - loss: 0.0072 - accuracy: 0.9982\n",
      "Epoch 20/35\n",
      "52/52 [==============================] - 20s 380ms/step - loss: 0.0049 - accuracy: 0.9976\n",
      "Epoch 21/35\n",
      "52/52 [==============================] - 20s 385ms/step - loss: 0.0114 - accuracy: 0.9970\n",
      "Epoch 22/35\n",
      "52/52 [==============================] - 20s 382ms/step - loss: 0.0065 - accuracy: 0.9976\n",
      "Epoch 23/35\n",
      "52/52 [==============================] - 20s 382ms/step - loss: 0.0161 - accuracy: 0.9964\n",
      "Epoch 24/35\n",
      "52/52 [==============================] - 20s 381ms/step - loss: 0.0065 - accuracy: 0.9970\n",
      "Epoch 25/35\n",
      "52/52 [==============================] - 20s 381ms/step - loss: 0.0081 - accuracy: 0.9970\n",
      "Epoch 26/35\n",
      "52/52 [==============================] - 20s 381ms/step - loss: 0.0058 - accuracy: 0.9982\n",
      "Epoch 27/35\n",
      "52/52 [==============================] - 20s 380ms/step - loss: 0.0101 - accuracy: 0.9970\n",
      "Epoch 28/35\n",
      "52/52 [==============================] - 20s 382ms/step - loss: 0.0075 - accuracy: 0.9964\n",
      "Epoch 29/35\n",
      "52/52 [==============================] - 20s 384ms/step - loss: 0.0104 - accuracy: 0.9957\n",
      "Epoch 30/35\n",
      "52/52 [==============================] - 20s 380ms/step - loss: 0.0055 - accuracy: 0.9964\n",
      "Epoch 31/35\n",
      "52/52 [==============================] - 20s 381ms/step - loss: 0.0057 - accuracy: 0.9964\n",
      "Epoch 32/35\n",
      "52/52 [==============================] - 20s 381ms/step - loss: 0.0063 - accuracy: 0.9970\n",
      "Epoch 33/35\n",
      "52/52 [==============================] - 20s 380ms/step - loss: 0.0107 - accuracy: 0.9957\n",
      "Epoch 34/35\n",
      "52/52 [==============================] - 20s 382ms/step - loss: 0.0039 - accuracy: 0.9982\n",
      "Epoch 35/35\n",
      "52/52 [==============================] - 20s 380ms/step - loss: 0.0064 - accuracy: 0.9970\n"
     ]
    },
    {
     "data": {
      "text/plain": [
       "<keras.callbacks.callbacks.History at 0x7f162962ecf8>"
      ]
     },
     "execution_count": 49,
     "metadata": {
      "tags": []
     },
     "output_type": "execute_result"
    }
   ],
   "source": [
    "final_model.fit_generator(generator=train_generator_final, epochs=35)"
   ]
  },
  {
   "cell_type": "code",
   "execution_count": 50,
   "metadata": {
    "colab": {
     "base_uri": "https://localhost:8080/",
     "height": 34
    },
    "colab_type": "code",
    "id": "I4mqr-EC6Ng3",
    "outputId": "9fb2d691-0fb3-464b-c66a-7721809fb1ab"
   },
   "outputs": [
    {
     "name": "stdout",
     "output_type": "stream",
     "text": [
      "23/23 [==============================] - 4s 185ms/step\n"
     ]
    }
   ],
   "source": [
    "test_generator.reset()\n",
    "pred = final_model.predict_generator(test_generator,\n",
    "                             verbose=1)"
   ]
  },
  {
   "cell_type": "code",
   "execution_count": 51,
   "metadata": {
    "colab": {
     "base_uri": "https://localhost:8080/",
     "height": 34
    },
    "colab_type": "code",
    "id": "YC4AEBogBEGb",
    "outputId": "7610c984-98ff-4db4-a26d-36a3cc19752d"
   },
   "outputs": [
    {
     "data": {
      "text/plain": [
       "(706, 1)"
      ]
     },
     "execution_count": 51,
     "metadata": {
      "tags": []
     },
     "output_type": "execute_result"
    }
   ],
   "source": [
    "pred.shape"
   ]
  },
  {
   "cell_type": "code",
   "execution_count": 52,
   "metadata": {
    "colab": {
     "base_uri": "https://localhost:8080/",
     "height": 187
    },
    "colab_type": "code",
    "id": "Jc8MWeub-I5S",
    "outputId": "8149f1c3-1465-40fd-8a0f-9f3f9ece4dd0"
   },
   "outputs": [
    {
     "data": {
      "text/plain": [
       "array([[0.],\n",
       "       [1.],\n",
       "       [0.],\n",
       "       [1.],\n",
       "       [0.],\n",
       "       [1.],\n",
       "       [0.],\n",
       "       [1.],\n",
       "       [0.],\n",
       "       [0.]], dtype=float32)"
      ]
     },
     "execution_count": 52,
     "metadata": {
      "tags": []
     },
     "output_type": "execute_result"
    }
   ],
   "source": [
    "pred[pred >= 0.5] = 1\n",
    "pred[pred < 0.5] = 0\n",
    "pred[:10]"
   ]
  },
  {
   "cell_type": "code",
   "execution_count": null,
   "metadata": {
    "colab": {},
    "colab_type": "code",
    "id": "DC4QlKR_AXtj"
   },
   "outputs": [],
   "source": [
    "pred = pred.ravel()"
   ]
  },
  {
   "cell_type": "code",
   "execution_count": null,
   "metadata": {
    "colab": {},
    "colab_type": "code",
    "id": "td24k9gR6QAO"
   },
   "outputs": [],
   "source": [
    "# labels = (train_generator.class_indices)\n",
    "# labels = dict((v,k) for k,v in labels.items())\n",
    "# predictions = [labels[k] for k in predicted_class_indices]"
   ]
  },
  {
   "cell_type": "code",
   "execution_count": null,
   "metadata": {
    "colab": {},
    "colab_type": "code",
    "id": "FL8Sjyat63oz"
   },
   "outputs": [],
   "source": [
    "out_dir = '/content/drive/My Drive/JantaHack Computer Vision/'\n",
    "filenames=test_generator.filenames\n",
    "results=pd.DataFrame({\"image_names\":filenames,\n",
    "                      \"emergency_or_not\":pred})\n",
    "results.to_csv(out_dir+\"Submissions9.csv\",index=False)"
   ]
  },
  {
   "cell_type": "code",
   "execution_count": null,
   "metadata": {
    "colab": {},
    "colab_type": "code",
    "id": "eutOELGVAv94"
   },
   "outputs": [],
   "source": []
  }
 ],
 "metadata": {
  "accelerator": "GPU",
  "colab": {
   "name": "Image_classification_(ResNet50)_2.ipynb",
   "provenance": [],
   "toc_visible": true
  },
  "kernelspec": {
   "display_name": "Python 3",
   "language": "python",
   "name": "python3"
  },
  "language_info": {
   "codemirror_mode": {
    "name": "ipython",
    "version": 3
   },
   "file_extension": ".py",
   "mimetype": "text/x-python",
   "name": "python",
   "nbconvert_exporter": "python",
   "pygments_lexer": "ipython3",
   "version": "3.8.6"
  }
 },
 "nbformat": 4,
 "nbformat_minor": 4
}
