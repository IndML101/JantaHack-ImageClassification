{
  "nbformat": 4,
  "nbformat_minor": 0,
  "metadata": {
    "kernelspec": {
      "display_name": "Python 3",
      "language": "python",
      "name": "python3"
    },
    "language_info": {
      "codemirror_mode": {
        "name": "ipython",
        "version": 3
      },
      "file_extension": ".py",
      "mimetype": "text/x-python",
      "name": "python",
      "nbconvert_exporter": "python",
      "pygments_lexer": "ipython3",
      "version": "3.8.2"
    },
    "colab": {
      "name": "Image_classification.ipynb",
      "provenance": [],
      "toc_visible": true
    },
    "accelerator": "GPU"
  },
  "cells": [
    {
      "cell_type": "markdown",
      "metadata": {
        "id": "fnOjHBWru73m",
        "colab_type": "text"
      },
      "source": [
        "# Image categorisation"
      ]
    },
    {
      "cell_type": "markdown",
      "metadata": {
        "id": "ARdIC02fu73n",
        "colab_type": "text"
      },
      "source": [
        "*  JantaHack Computer Vision by analyticsvidhya\n",
        "*  Classify emergency and non-emergency vehicle from images"
      ]
    },
    {
      "cell_type": "code",
      "metadata": {
        "id": "r6ELWGzdu73o",
        "colab_type": "code",
        "outputId": "4172b487-577e-47dc-bb0b-189abb5dfde6",
        "colab": {
          "base_uri": "https://localhost:8080/",
          "height": 88
        }
      },
      "source": [
        "import pandas as pd\n",
        "import numpy as np\n",
        "import random\n",
        "import math\n",
        "from google.colab import drive\n",
        "from sklearn.model_selection import train_test_split\n",
        "from sklearn.metrics import confusion_matrix\n",
        "\n",
        "from keras.preprocessing.image import ImageDataGenerator, load_img, img_to_array, array_to_img\n",
        "from keras.models import Sequential\n",
        "from keras.layers import Dense, Dropout, Activation, Flatten\n",
        "from keras.layers import Conv2D, MaxPool2D, BatchNormalization\n",
        "from keras.layers import Convolution2D, MaxPooling2D\n",
        "from keras.utils.np_utils import to_categorical\n",
        "\n",
        "import seaborn as sns\n",
        "from matplotlib import pyplot as plt"
      ],
      "execution_count": 1,
      "outputs": [
        {
          "output_type": "stream",
          "text": [
            "Using TensorFlow backend.\n",
            "/usr/local/lib/python3.6/dist-packages/statsmodels/tools/_testing.py:19: FutureWarning: pandas.util.testing is deprecated. Use the functions in the public API at pandas.testing instead.\n",
            "  import pandas.util.testing as tm\n"
          ],
          "name": "stderr"
        }
      ]
    },
    {
      "cell_type": "code",
      "metadata": {
        "id": "Lu1srAbWu73w",
        "colab_type": "code",
        "colab": {}
      },
      "source": [
        "# numpy random number geneartor seed\n",
        "# for reproducibility\n",
        "np.random.seed(123)\n",
        "\n",
        "# set plot rc parameters\n",
        "# jtplot.style(grid=False)\n",
        "plt.rcParams['figure.facecolor'] = 'white'\n",
        "plt.rcParams['axes.facecolor'] = '#232323'\n",
        "#plt.rcParams['axes.edgecolor'] = '#FFFFFF'\n",
        "plt.rcParams['figure.figsize'] = 10, 7\n",
        "plt.rcParams['legend.loc'] = 'best'\n",
        "plt.rcParams['legend.framealpha'] = 0.2\n",
        "plt.rcParams['text.color'] = '#666666'\n",
        "plt.rcParams['axes.labelcolor'] = '#666666'\n",
        "plt.rcParams['axes.labelsize'] = 14\n",
        "plt.rcParams['axes.titlesize'] = 16\n",
        "plt.rcParams['xtick.color'] = '#666666'\n",
        "plt.rcParams['xtick.labelsize'] = 14\n",
        "plt.rcParams['ytick.color'] = '#666666'\n",
        "plt.rcParams['ytick.labelsize'] = 14\n",
        "\n",
        "# plt.rcParams['font.size'] = 16\n",
        "\n",
        "sns.color_palette('dark')\n",
        "%matplotlib inline"
      ],
      "execution_count": 0,
      "outputs": []
    },
    {
      "cell_type": "markdown",
      "metadata": {
        "id": "6xhpQuOsu731",
        "colab_type": "text"
      },
      "source": [
        "## Load data"
      ]
    },
    {
      "cell_type": "code",
      "metadata": {
        "id": "JTuKfmiWv9CJ",
        "colab_type": "code",
        "outputId": "85dfebf5-0c02-4df6-9e2e-a60d850d6ffd",
        "colab": {
          "base_uri": "https://localhost:8080/",
          "height": 122
        }
      },
      "source": [
        "drive.mount('/content/drive')"
      ],
      "execution_count": 3,
      "outputs": [
        {
          "output_type": "stream",
          "text": [
            "Go to this URL in a browser: https://accounts.google.com/o/oauth2/auth?client_id=947318989803-6bn6qk8qdgf4n4g3pfee6491hc0brc4i.apps.googleusercontent.com&redirect_uri=urn%3aietf%3awg%3aoauth%3a2.0%3aoob&response_type=code&scope=email%20https%3a%2f%2fwww.googleapis.com%2fauth%2fdocs.test%20https%3a%2f%2fwww.googleapis.com%2fauth%2fdrive%20https%3a%2f%2fwww.googleapis.com%2fauth%2fdrive.photos.readonly%20https%3a%2f%2fwww.googleapis.com%2fauth%2fpeopleapi.readonly\n",
            "\n",
            "Enter your authorization code:\n",
            "··········\n",
            "Mounted at /content/drive\n"
          ],
          "name": "stdout"
        }
      ]
    },
    {
      "cell_type": "code",
      "metadata": {
        "id": "DF3YeaWPy1UG",
        "colab_type": "code",
        "colab": {}
      },
      "source": [
        "data_dir = '/content/drive/My Drive/JantaHack Computer Vision/data'\n",
        "img_dir = '/content/drive/My Drive/JantaHack Computer Vision/data/images'"
      ],
      "execution_count": 0,
      "outputs": []
    },
    {
      "cell_type": "code",
      "metadata": {
        "id": "DR1enKVmu732",
        "colab_type": "code",
        "outputId": "b25cfba1-f4fb-4dc1-adb3-8f1ceaff90bb",
        "colab": {
          "base_uri": "https://localhost:8080/",
          "height": 34
        }
      },
      "source": [
        "train_img = pd.read_csv(data_dir+'/train.csv')\n",
        "test_img = pd.read_csv(data_dir+'/test_vc2kHdQ.csv')\n",
        "train_img.shape, test_img.shape"
      ],
      "execution_count": 5,
      "outputs": [
        {
          "output_type": "execute_result",
          "data": {
            "text/plain": [
              "((1646, 2), (706, 1))"
            ]
          },
          "metadata": {
            "tags": []
          },
          "execution_count": 5
        }
      ]
    },
    {
      "cell_type": "code",
      "metadata": {
        "id": "tSsgPQX5u736",
        "colab_type": "code",
        "colab": {}
      },
      "source": [
        "train_img['emergency_or_not'] = train_img['emergency_or_not'].apply(lambda x: str(x))"
      ],
      "execution_count": 0,
      "outputs": []
    },
    {
      "cell_type": "code",
      "metadata": {
        "id": "7wLHo4FZu73-",
        "colab_type": "code",
        "outputId": "3a36b122-6bea-4cbf-dea4-539d62cfeee0",
        "colab": {
          "base_uri": "https://localhost:8080/",
          "height": 204
        }
      },
      "source": [
        "train_img.head()"
      ],
      "execution_count": 7,
      "outputs": [
        {
          "output_type": "execute_result",
          "data": {
            "text/html": [
              "<div>\n",
              "<style scoped>\n",
              "    .dataframe tbody tr th:only-of-type {\n",
              "        vertical-align: middle;\n",
              "    }\n",
              "\n",
              "    .dataframe tbody tr th {\n",
              "        vertical-align: top;\n",
              "    }\n",
              "\n",
              "    .dataframe thead th {\n",
              "        text-align: right;\n",
              "    }\n",
              "</style>\n",
              "<table border=\"1\" class=\"dataframe\">\n",
              "  <thead>\n",
              "    <tr style=\"text-align: right;\">\n",
              "      <th></th>\n",
              "      <th>image_names</th>\n",
              "      <th>emergency_or_not</th>\n",
              "    </tr>\n",
              "  </thead>\n",
              "  <tbody>\n",
              "    <tr>\n",
              "      <th>0</th>\n",
              "      <td>1503.jpg</td>\n",
              "      <td>0</td>\n",
              "    </tr>\n",
              "    <tr>\n",
              "      <th>1</th>\n",
              "      <td>1420.jpg</td>\n",
              "      <td>0</td>\n",
              "    </tr>\n",
              "    <tr>\n",
              "      <th>2</th>\n",
              "      <td>1764.jpg</td>\n",
              "      <td>0</td>\n",
              "    </tr>\n",
              "    <tr>\n",
              "      <th>3</th>\n",
              "      <td>1356.jpg</td>\n",
              "      <td>0</td>\n",
              "    </tr>\n",
              "    <tr>\n",
              "      <th>4</th>\n",
              "      <td>1117.jpg</td>\n",
              "      <td>0</td>\n",
              "    </tr>\n",
              "  </tbody>\n",
              "</table>\n",
              "</div>"
            ],
            "text/plain": [
              "  image_names emergency_or_not\n",
              "0    1503.jpg                0\n",
              "1    1420.jpg                0\n",
              "2    1764.jpg                0\n",
              "3    1356.jpg                0\n",
              "4    1117.jpg                0"
            ]
          },
          "metadata": {
            "tags": []
          },
          "execution_count": 7
        }
      ]
    },
    {
      "cell_type": "markdown",
      "metadata": {
        "id": "P4aZZsnGu74D",
        "colab_type": "text"
      },
      "source": [
        "## Load Image data"
      ]
    },
    {
      "cell_type": "markdown",
      "metadata": {
        "id": "dcYccZAiu74E",
        "colab_type": "text"
      },
      "source": [
        "### Load image to array"
      ]
    },
    {
      "cell_type": "code",
      "metadata": {
        "id": "ua_-eJmVu74F",
        "colab_type": "code",
        "outputId": "9c9e36c2-d17d-4180-b391-f153fbe58c00",
        "colab": {
          "base_uri": "https://localhost:8080/",
          "height": 34
        }
      },
      "source": [
        "im1 = load_img(img_dir+'/23.jpg')\n",
        "im1_array = img_to_array(im1)\n",
        "im1_array.shape"
      ],
      "execution_count": 8,
      "outputs": [
        {
          "output_type": "execute_result",
          "data": {
            "text/plain": [
              "(224, 224, 3)"
            ]
          },
          "metadata": {
            "tags": []
          },
          "execution_count": 8
        }
      ]
    },
    {
      "cell_type": "code",
      "metadata": {
        "id": "wHfeJn7qu74J",
        "colab_type": "code",
        "colab": {}
      },
      "source": [
        "# x = np.zeros(shape = [1646, 224, 224, 3])"
      ],
      "execution_count": 0,
      "outputs": []
    },
    {
      "cell_type": "code",
      "metadata": {
        "id": "rXEWW3XAu74M",
        "colab_type": "code",
        "colab": {}
      },
      "source": [
        "# for i, img in enumerate(train_img['image_names'].values):\n",
        "#     x[i] = img_to_array(load_img('data/images/'+img))"
      ],
      "execution_count": 0,
      "outputs": []
    },
    {
      "cell_type": "markdown",
      "metadata": {
        "id": "-Y4JA5diu74Q",
        "colab_type": "text"
      },
      "source": [
        "### Load image using generators"
      ]
    },
    {
      "cell_type": "code",
      "metadata": {
        "id": "TmGRPjQmu74R",
        "colab_type": "code",
        "colab": {}
      },
      "source": [
        "datagen = ImageDataGenerator(rescale=1./255.,validation_split=0.25)"
      ],
      "execution_count": 0,
      "outputs": []
    },
    {
      "cell_type": "code",
      "metadata": {
        "id": "pp3mYAayu74U",
        "colab_type": "code",
        "outputId": "74af7b3a-d1be-4ade-fedd-cd4b609ffcc8",
        "colab": {
          "base_uri": "https://localhost:8080/",
          "height": 51
        }
      },
      "source": [
        "# train generator\n",
        "train_generator=datagen.flow_from_dataframe(dataframe=train_img,\n",
        "                                            directory=img_dir,\n",
        "                                            x_col=\"image_names\",\n",
        "                                            y_col=\"emergency_or_not\",\n",
        "                                            subset=\"training\",\n",
        "                                            batch_size=32,\n",
        "                                            seed=42,\n",
        "                                            shuffle=True,\n",
        "                                            class_mode=\"binary\",\n",
        "                                            target_size=(224,224),\n",
        "                                            color_mode='rgb')\n",
        "# validation data generator\n",
        "valid_generator=datagen.flow_from_dataframe(dataframe=train_img,\n",
        "                                            directory=img_dir,\n",
        "                                            x_col=\"image_names\",\n",
        "                                            y_col=\"emergency_or_not\",\n",
        "                                            subset=\"validation\",\n",
        "                                            batch_size=32,\n",
        "                                            seed=42,\n",
        "                                            shuffle=True,\n",
        "                                            class_mode=\"binary\",\n",
        "                                            target_size=(224,224),\n",
        "                                            color_mode='rgb')"
      ],
      "execution_count": 12,
      "outputs": [
        {
          "output_type": "stream",
          "text": [
            "Found 1235 validated image filenames belonging to 2 classes.\n",
            "Found 411 validated image filenames belonging to 2 classes.\n"
          ],
          "name": "stdout"
        }
      ]
    },
    {
      "cell_type": "code",
      "metadata": {
        "id": "QMTmCO9-u74Y",
        "colab_type": "code",
        "outputId": "4812893b-ea86-4dba-c61b-788a11dd2f44",
        "colab": {
          "base_uri": "https://localhost:8080/",
          "height": 34
        }
      },
      "source": [
        "# test data generator\n",
        "test_datagen = ImageDataGenerator(rescale=1./255.)\n",
        "test_generator = test_datagen.flow_from_dataframe(dataframe=test_img,\n",
        "                                                  directory=img_dir,\n",
        "                                                  x_col=\"image_names\",\n",
        "                                                  y_col=None,\n",
        "                                                  batch_size=32,\n",
        "                                                  seed=42,\n",
        "                                                  shuffle=False,\n",
        "                                                  class_mode=None,\n",
        "                                                  target_size=(224,224),\n",
        "                                                  color_mode='rgb')"
      ],
      "execution_count": 13,
      "outputs": [
        {
          "output_type": "stream",
          "text": [
            "Found 706 validated image filenames.\n"
          ],
          "name": "stdout"
        }
      ]
    },
    {
      "cell_type": "markdown",
      "metadata": {
        "id": "H7l8uE6tu74c",
        "colab_type": "text"
      },
      "source": [
        "## CNN model"
      ]
    },
    {
      "cell_type": "code",
      "metadata": {
        "id": "bt4DezQ_u74e",
        "colab_type": "code",
        "outputId": "6901b871-37a9-4cbc-a667-bcadfe058dc7",
        "colab": {
          "base_uri": "https://localhost:8080/",
          "height": 1000
        }
      },
      "source": [
        "# initiate sequential model\n",
        "model = Sequential()\n",
        "# add convolutional layer\n",
        "# 16 sliding windows each of 3X3 size\n",
        "# default step is 1X1\n",
        "model.add(Conv2D(filters = 32,\n",
        "                 kernel_size = (3, 3),\n",
        "                 activation='relu',\n",
        "                 input_shape = (224, 224,3),\n",
        "                 padding='same'))\n",
        "# add batch normalization to normalize output of the layer\n",
        "model.add(BatchNormalization())\n",
        "# add another convolutional layer\n",
        "model.add(Conv2D(filters = 32,\n",
        "                 kernel_size = (3, 3),\n",
        "                 activation='relu',\n",
        "                 padding='same'))\n",
        "# batchnormalize\n",
        "model.add(BatchNormalization())\n",
        "# add maxpooling layer\n",
        "# this layer picks max value for every 2X2 window\n",
        "model.add(MaxPool2D(pool_size=(2,2)))\n",
        "# add dropout layer\n",
        "model.add(Dropout(0.3))\n",
        "# repeat above sequence once more\n",
        "model.add(Conv2D(filters = 64,\n",
        "                 kernel_size = (3, 3),\n",
        "                 activation='relu',\n",
        "                 padding='same'))\n",
        "model.add(BatchNormalization())\n",
        "model.add(Conv2D(filters = 64,\n",
        "                 kernel_size = (3, 3),\n",
        "                 activation='relu',\n",
        "                 padding='same'))\n",
        "model.add(BatchNormalization())\n",
        "model.add(MaxPool2D(pool_size=(2,2)))\n",
        "model.add(Dropout(0.3))\n",
        "# another set of convolutional layers\n",
        "model.add(Conv2D(filters = 128,\n",
        "                 kernel_size = (3, 3),\n",
        "                 activation='relu',\n",
        "                 padding='same'))\n",
        "model.add(BatchNormalization())\n",
        "model.add(Conv2D(filters = 128,\n",
        "                 kernel_size = (3, 3),\n",
        "                 activation='relu',\n",
        "                 padding='same'))\n",
        "model.add(BatchNormalization())\n",
        "model.add(Conv2D(filters = 128,\n",
        "                 kernel_size = (3, 3),\n",
        "                 activation='relu',\n",
        "                 padding='same'))\n",
        "model.add(BatchNormalization())\n",
        "model.add(MaxPool2D(pool_size=(2,2)))\n",
        "model.add(Dropout(0.3))\n",
        "# another set of convolutional layers\n",
        "model.add(Conv2D(filters = 256,\n",
        "                 kernel_size = (3, 3),\n",
        "                 activation='relu',\n",
        "                 padding='same'))\n",
        "model.add(BatchNormalization())\n",
        "model.add(Conv2D(filters = 256,\n",
        "                 kernel_size = (3, 3),\n",
        "                 activation='relu',\n",
        "                 padding='same'))\n",
        "model.add(BatchNormalization())\n",
        "model.add(Conv2D(filters = 256,\n",
        "                 kernel_size = (3, 3),\n",
        "                 activation='relu',\n",
        "                 padding='same'))\n",
        "model.add(BatchNormalization())\n",
        "model.add(MaxPool2D(pool_size=(2,2)))\n",
        "model.add(Dropout(0.3))\n",
        "# flatten cnn layers\n",
        "model.add(Flatten())\n",
        "# add dense layer\n",
        "model.add(Dense(512, activation='relu'))\n",
        "model.add(Dropout(0.3))\n",
        "model.add(Dense(256, activation='relu'))\n",
        "model.add(Dropout(0.3))\n",
        "# finally add a softmax layer which will predict probability of each class\n",
        "model.add(Dense(1, activation='sigmoid'))\n",
        "# print model summary\n",
        "model.summary()\n",
        "\n",
        "# compile model\n",
        "model.compile(loss='binary_crossentropy',\n",
        "             optimizer='adam',\n",
        "             metrics=['accuracy'])"
      ],
      "execution_count": 14,
      "outputs": [
        {
          "output_type": "stream",
          "text": [
            "Model: \"sequential_1\"\n",
            "_________________________________________________________________\n",
            "Layer (type)                 Output Shape              Param #   \n",
            "=================================================================\n",
            "conv2d_1 (Conv2D)            (None, 224, 224, 32)      896       \n",
            "_________________________________________________________________\n",
            "batch_normalization_1 (Batch (None, 224, 224, 32)      128       \n",
            "_________________________________________________________________\n",
            "conv2d_2 (Conv2D)            (None, 224, 224, 32)      9248      \n",
            "_________________________________________________________________\n",
            "batch_normalization_2 (Batch (None, 224, 224, 32)      128       \n",
            "_________________________________________________________________\n",
            "max_pooling2d_1 (MaxPooling2 (None, 112, 112, 32)      0         \n",
            "_________________________________________________________________\n",
            "dropout_1 (Dropout)          (None, 112, 112, 32)      0         \n",
            "_________________________________________________________________\n",
            "conv2d_3 (Conv2D)            (None, 112, 112, 64)      18496     \n",
            "_________________________________________________________________\n",
            "batch_normalization_3 (Batch (None, 112, 112, 64)      256       \n",
            "_________________________________________________________________\n",
            "conv2d_4 (Conv2D)            (None, 112, 112, 64)      36928     \n",
            "_________________________________________________________________\n",
            "batch_normalization_4 (Batch (None, 112, 112, 64)      256       \n",
            "_________________________________________________________________\n",
            "max_pooling2d_2 (MaxPooling2 (None, 56, 56, 64)        0         \n",
            "_________________________________________________________________\n",
            "dropout_2 (Dropout)          (None, 56, 56, 64)        0         \n",
            "_________________________________________________________________\n",
            "conv2d_5 (Conv2D)            (None, 56, 56, 128)       73856     \n",
            "_________________________________________________________________\n",
            "batch_normalization_5 (Batch (None, 56, 56, 128)       512       \n",
            "_________________________________________________________________\n",
            "conv2d_6 (Conv2D)            (None, 56, 56, 128)       147584    \n",
            "_________________________________________________________________\n",
            "batch_normalization_6 (Batch (None, 56, 56, 128)       512       \n",
            "_________________________________________________________________\n",
            "conv2d_7 (Conv2D)            (None, 56, 56, 128)       147584    \n",
            "_________________________________________________________________\n",
            "batch_normalization_7 (Batch (None, 56, 56, 128)       512       \n",
            "_________________________________________________________________\n",
            "max_pooling2d_3 (MaxPooling2 (None, 28, 28, 128)       0         \n",
            "_________________________________________________________________\n",
            "dropout_3 (Dropout)          (None, 28, 28, 128)       0         \n",
            "_________________________________________________________________\n",
            "conv2d_8 (Conv2D)            (None, 28, 28, 256)       295168    \n",
            "_________________________________________________________________\n",
            "batch_normalization_8 (Batch (None, 28, 28, 256)       1024      \n",
            "_________________________________________________________________\n",
            "conv2d_9 (Conv2D)            (None, 28, 28, 256)       590080    \n",
            "_________________________________________________________________\n",
            "batch_normalization_9 (Batch (None, 28, 28, 256)       1024      \n",
            "_________________________________________________________________\n",
            "conv2d_10 (Conv2D)           (None, 28, 28, 256)       590080    \n",
            "_________________________________________________________________\n",
            "batch_normalization_10 (Batc (None, 28, 28, 256)       1024      \n",
            "_________________________________________________________________\n",
            "max_pooling2d_4 (MaxPooling2 (None, 14, 14, 256)       0         \n",
            "_________________________________________________________________\n",
            "dropout_4 (Dropout)          (None, 14, 14, 256)       0         \n",
            "_________________________________________________________________\n",
            "flatten_1 (Flatten)          (None, 50176)             0         \n",
            "_________________________________________________________________\n",
            "dense_1 (Dense)              (None, 512)               25690624  \n",
            "_________________________________________________________________\n",
            "dropout_5 (Dropout)          (None, 512)               0         \n",
            "_________________________________________________________________\n",
            "dense_2 (Dense)              (None, 256)               131328    \n",
            "_________________________________________________________________\n",
            "dropout_6 (Dropout)          (None, 256)               0         \n",
            "_________________________________________________________________\n",
            "dense_3 (Dense)              (None, 1)                 257       \n",
            "=================================================================\n",
            "Total params: 27,737,505\n",
            "Trainable params: 27,734,817\n",
            "Non-trainable params: 2,688\n",
            "_________________________________________________________________\n"
          ],
          "name": "stdout"
        }
      ]
    },
    {
      "cell_type": "markdown",
      "metadata": {
        "id": "m7ROY9Nmu74i",
        "colab_type": "text"
      },
      "source": [
        "## Train CNN model"
      ]
    },
    {
      "cell_type": "code",
      "metadata": {
        "id": "7BX_xfORu74j",
        "colab_type": "code",
        "colab": {}
      },
      "source": [
        "STEP_SIZE_TRAIN = train_generator.n//train_generator.batch_size\n",
        "STEP_SIZE_VALID = valid_generator.n//valid_generator.batch_size\n",
        "STEP_SIZE_TEST=test_generator.n//test_generator.batch_size"
      ],
      "execution_count": 0,
      "outputs": []
    },
    {
      "cell_type": "code",
      "metadata": {
        "id": "FfIHDgO6auOZ",
        "colab_type": "code",
        "colab": {
          "base_uri": "https://localhost:8080/",
          "height": 1000
        },
        "outputId": "94a71e84-75d1-43e6-8422-218077e196b1"
      },
      "source": [
        "model.fit_generator(generator=train_generator,\n",
        "                    validation_data=valid_generator,\n",
        "                    epochs=30)"
      ],
      "execution_count": 16,
      "outputs": [
        {
          "output_type": "stream",
          "text": [
            "Epoch 1/30\n",
            "39/39 [==============================] - 783s 20s/step - loss: 6.2370 - accuracy: 0.6105 - val_loss: 30.3872 - val_accuracy: 0.3990\n",
            "Epoch 2/30\n",
            "39/39 [==============================] - 17s 440ms/step - loss: 3.1678 - accuracy: 0.6453 - val_loss: 12.3805 - val_accuracy: 0.3990\n",
            "Epoch 3/30\n",
            "39/39 [==============================] - 17s 441ms/step - loss: 1.3043 - accuracy: 0.6842 - val_loss: 1.2431 - val_accuracy: 0.3990\n",
            "Epoch 4/30\n",
            "39/39 [==============================] - 17s 442ms/step - loss: 1.2110 - accuracy: 0.7190 - val_loss: 14.4834 - val_accuracy: 0.3990\n",
            "Epoch 5/30\n",
            "39/39 [==============================] - 17s 443ms/step - loss: 1.2151 - accuracy: 0.7028 - val_loss: 1.9962 - val_accuracy: 0.3966\n",
            "Epoch 6/30\n",
            "39/39 [==============================] - 17s 444ms/step - loss: 0.6490 - accuracy: 0.7474 - val_loss: 49.7841 - val_accuracy: 0.3990\n",
            "Epoch 7/30\n",
            "39/39 [==============================] - 17s 445ms/step - loss: 0.5551 - accuracy: 0.7960 - val_loss: 22.7860 - val_accuracy: 0.3990\n",
            "Epoch 8/30\n",
            "39/39 [==============================] - 17s 447ms/step - loss: 0.6968 - accuracy: 0.7717 - val_loss: 1.8343 - val_accuracy: 0.5985\n",
            "Epoch 9/30\n",
            "39/39 [==============================] - 17s 448ms/step - loss: 0.4740 - accuracy: 0.8065 - val_loss: 1.9145 - val_accuracy: 0.4550\n",
            "Epoch 10/30\n",
            "39/39 [==============================] - 17s 448ms/step - loss: 0.3569 - accuracy: 0.8389 - val_loss: 2.1402 - val_accuracy: 0.6253\n",
            "Epoch 11/30\n",
            "39/39 [==============================] - 17s 448ms/step - loss: 0.3051 - accuracy: 0.8599 - val_loss: 0.7721 - val_accuracy: 0.6472\n",
            "Epoch 12/30\n",
            "39/39 [==============================] - 18s 449ms/step - loss: 0.2613 - accuracy: 0.8834 - val_loss: 0.5482 - val_accuracy: 0.6886\n",
            "Epoch 13/30\n",
            "39/39 [==============================] - 18s 449ms/step - loss: 0.6080 - accuracy: 0.8632 - val_loss: 1.1871 - val_accuracy: 0.7226\n",
            "Epoch 14/30\n",
            "39/39 [==============================] - 18s 450ms/step - loss: 0.3201 - accuracy: 0.8834 - val_loss: 0.4503 - val_accuracy: 0.7494\n",
            "Epoch 15/30\n",
            "39/39 [==============================] - 18s 450ms/step - loss: 0.2590 - accuracy: 0.9069 - val_loss: 0.2088 - val_accuracy: 0.7810\n",
            "Epoch 16/30\n",
            "39/39 [==============================] - 18s 450ms/step - loss: 0.4006 - accuracy: 0.8939 - val_loss: 0.4019 - val_accuracy: 0.7908\n",
            "Epoch 17/30\n",
            "39/39 [==============================] - 18s 450ms/step - loss: 0.2047 - accuracy: 0.9239 - val_loss: 0.8457 - val_accuracy: 0.8151\n",
            "Epoch 18/30\n",
            "39/39 [==============================] - 18s 450ms/step - loss: 0.1787 - accuracy: 0.9279 - val_loss: 1.3624 - val_accuracy: 0.8516\n",
            "Epoch 19/30\n",
            "39/39 [==============================] - 18s 450ms/step - loss: 0.1928 - accuracy: 0.9409 - val_loss: 0.4619 - val_accuracy: 0.7737\n",
            "Epoch 20/30\n",
            "39/39 [==============================] - 18s 452ms/step - loss: 0.1923 - accuracy: 0.9498 - val_loss: 0.6344 - val_accuracy: 0.8102\n",
            "Epoch 21/30\n",
            "39/39 [==============================] - 18s 451ms/step - loss: 0.1623 - accuracy: 0.9409 - val_loss: 0.3249 - val_accuracy: 0.8102\n",
            "Epoch 22/30\n",
            "39/39 [==============================] - 18s 451ms/step - loss: 0.1510 - accuracy: 0.9482 - val_loss: 3.7747 - val_accuracy: 0.8394\n",
            "Epoch 23/30\n",
            "39/39 [==============================] - 18s 450ms/step - loss: 0.1374 - accuracy: 0.9490 - val_loss: 0.2906 - val_accuracy: 0.8443\n",
            "Epoch 24/30\n",
            "39/39 [==============================] - 18s 451ms/step - loss: 0.1461 - accuracy: 0.9490 - val_loss: 0.4441 - val_accuracy: 0.8345\n",
            "Epoch 25/30\n",
            "39/39 [==============================] - 18s 451ms/step - loss: 0.0948 - accuracy: 0.9555 - val_loss: 0.0208 - val_accuracy: 0.8637\n",
            "Epoch 26/30\n",
            "39/39 [==============================] - 18s 450ms/step - loss: 0.1297 - accuracy: 0.9652 - val_loss: 0.8459 - val_accuracy: 0.8443\n",
            "Epoch 27/30\n",
            "39/39 [==============================] - 18s 450ms/step - loss: 0.2202 - accuracy: 0.9571 - val_loss: 0.6042 - val_accuracy: 0.8686\n",
            "Epoch 28/30\n",
            "39/39 [==============================] - 18s 450ms/step - loss: 0.1316 - accuracy: 0.9506 - val_loss: 0.8627 - val_accuracy: 0.7737\n",
            "Epoch 29/30\n",
            "39/39 [==============================] - 18s 450ms/step - loss: 0.0929 - accuracy: 0.9636 - val_loss: 0.5381 - val_accuracy: 0.8394\n",
            "Epoch 30/30\n",
            "39/39 [==============================] - 18s 450ms/step - loss: 0.0989 - accuracy: 0.9619 - val_loss: 0.3534 - val_accuracy: 0.8418\n"
          ],
          "name": "stdout"
        },
        {
          "output_type": "execute_result",
          "data": {
            "text/plain": [
              "<keras.callbacks.callbacks.History at 0x7f0a62083c88>"
            ]
          },
          "metadata": {
            "tags": []
          },
          "execution_count": 16
        }
      ]
    },
    {
      "cell_type": "code",
      "metadata": {
        "id": "TD3XuY-T03nW",
        "colab_type": "code",
        "outputId": "e6ea0123-22c0-43b5-fcf4-a0c922a038c2",
        "colab": {
          "base_uri": "https://localhost:8080/",
          "height": 34
        }
      },
      "source": [
        "model.evaluate_generator(generator=valid_generator,\n",
        "                         steps=STEP_SIZE_TEST)"
      ],
      "execution_count": 17,
      "outputs": [
        {
          "output_type": "execute_result",
          "data": {
            "text/plain": [
              "[0.5338988304138184, 0.8483548164367676]"
            ]
          },
          "metadata": {
            "tags": []
          },
          "execution_count": 17
        }
      ]
    },
    {
      "cell_type": "markdown",
      "metadata": {
        "id": "05r9ORlH5D6Y",
        "colab_type": "text"
      },
      "source": [
        "## Submissions"
      ]
    },
    {
      "cell_type": "code",
      "metadata": {
        "id": "I4mqr-EC6Ng3",
        "colab_type": "code",
        "outputId": "160b777e-684f-488c-a15e-6a128f1b85c7",
        "colab": {
          "base_uri": "https://localhost:8080/",
          "height": 34
        }
      },
      "source": [
        "test_generator.reset()\n",
        "pred=model.predict_generator(test_generator,\n",
        "                             verbose=1)"
      ],
      "execution_count": 18,
      "outputs": [
        {
          "output_type": "stream",
          "text": [
            "23/23 [==============================] - 419s 18s/step\n"
          ],
          "name": "stdout"
        }
      ]
    },
    {
      "cell_type": "code",
      "metadata": {
        "id": "YC4AEBogBEGb",
        "colab_type": "code",
        "outputId": "0bf3aa8a-b8dc-4b6b-b955-d2bc95f01bbf",
        "colab": {
          "base_uri": "https://localhost:8080/",
          "height": 34
        }
      },
      "source": [
        "pred.shape"
      ],
      "execution_count": 19,
      "outputs": [
        {
          "output_type": "execute_result",
          "data": {
            "text/plain": [
              "(706, 1)"
            ]
          },
          "metadata": {
            "tags": []
          },
          "execution_count": 19
        }
      ]
    },
    {
      "cell_type": "code",
      "metadata": {
        "id": "Jc8MWeub-I5S",
        "colab_type": "code",
        "outputId": "86e78d8a-e128-4d8d-82e9-77d802e1061c",
        "colab": {
          "base_uri": "https://localhost:8080/",
          "height": 187
        }
      },
      "source": [
        "pred[pred >= 0.5] = 1\n",
        "pred[pred < 0.5] = 0\n",
        "pred[:10]"
      ],
      "execution_count": 20,
      "outputs": [
        {
          "output_type": "execute_result",
          "data": {
            "text/plain": [
              "array([[0.],\n",
              "       [1.],\n",
              "       [0.],\n",
              "       [1.],\n",
              "       [0.],\n",
              "       [1.],\n",
              "       [0.],\n",
              "       [1.],\n",
              "       [1.],\n",
              "       [0.]], dtype=float32)"
            ]
          },
          "metadata": {
            "tags": []
          },
          "execution_count": 20
        }
      ]
    },
    {
      "cell_type": "code",
      "metadata": {
        "id": "DC4QlKR_AXtj",
        "colab_type": "code",
        "colab": {}
      },
      "source": [
        "pred = pred.ravel()"
      ],
      "execution_count": 0,
      "outputs": []
    },
    {
      "cell_type": "code",
      "metadata": {
        "id": "td24k9gR6QAO",
        "colab_type": "code",
        "colab": {}
      },
      "source": [
        "# labels = (train_generator.class_indices)\n",
        "# labels = dict((v,k) for k,v in labels.items())\n",
        "# predictions = [labels[k] for k in predicted_class_indices]"
      ],
      "execution_count": 0,
      "outputs": []
    },
    {
      "cell_type": "code",
      "metadata": {
        "id": "FL8Sjyat63oz",
        "colab_type": "code",
        "colab": {}
      },
      "source": [
        "out_dir = '/content/drive/My Drive/JantaHack Computer Vision/'\n",
        "filenames=test_generator.filenames\n",
        "results=pd.DataFrame({\"image_names\":filenames,\n",
        "                      \"emergency_or_not\":pred})\n",
        "results.to_csv(out_dir+\"Submissions2.csv\",index=False)"
      ],
      "execution_count": 0,
      "outputs": []
    },
    {
      "cell_type": "code",
      "metadata": {
        "id": "eutOELGVAv94",
        "colab_type": "code",
        "colab": {}
      },
      "source": [
        ""
      ],
      "execution_count": 0,
      "outputs": []
    }
  ]
}