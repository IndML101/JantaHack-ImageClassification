{
 "cells": [
  {
   "cell_type": "code",
   "execution_count": 1,
   "metadata": {
    "colab": {},
    "colab_type": "code",
    "id": "HUDoJ1zzJh55"
   },
   "outputs": [],
   "source": [
    "import cv2\n",
    "import numpy as np\n",
    "import warnings\n",
    "warnings.filterwarnings(\"ignore\")\n",
    "import matplotlib.pyplot as plt\n",
    "import pandas as pd\n",
    "from IPython.display import clear_output"
   ]
  },
  {
   "cell_type": "code",
   "execution_count": 2,
   "metadata": {
    "colab": {},
    "colab_type": "code",
    "id": "d-5sdZCI5ffs"
   },
   "outputs": [],
   "source": [
    "import os\n",
    "path = r'F:\\PGDBA\\Contest\\Janta Hackathon'\n",
    "os.chdir(path)"
   ]
  },
  {
   "cell_type": "markdown",
   "metadata": {},
   "source": [
    "## Load Model"
   ]
  },
  {
   "cell_type": "code",
   "execution_count": 3,
   "metadata": {
    "colab": {},
    "colab_type": "code",
    "id": "zZMex15AJh6A"
   },
   "outputs": [],
   "source": [
    "net = cv2.dnn.readNet(\"yolov3_training_last_single_veh_comp_train.weights\"\n",
    "                      ,\"yolov3_training_last_single_veh_comp_train.cfg\")\n",
    "classes = []\n",
    "with open(\"obj.names\", \"r\") as f:\n",
    "    classes = [line.strip() for line in f.readlines()]\n",
    "layer_names = net.getLayerNames()\n",
    "output_layers = [layer_names[i[0] - 1] for i in net.getUnconnectedOutLayers()]\n",
    "colors = np.random.uniform(0, 255, size=(len(classes), 3))"
   ]
  },
  {
   "cell_type": "markdown",
   "metadata": {},
   "source": [
    "## Read Test/Train List"
   ]
  },
  {
   "cell_type": "code",
   "execution_count": 4,
   "metadata": {},
   "outputs": [],
   "source": [
    "df1 = pd.read_excel('test.xlsx')\n",
    "df1 = np.array(df1)"
   ]
  },
  {
   "cell_type": "markdown",
   "metadata": {},
   "source": [
    "## Multiple Images"
   ]
  },
  {
   "cell_type": "code",
   "execution_count": 5,
   "metadata": {},
   "outputs": [
    {
     "data": {
      "text/plain": [
       "706"
      ]
     },
     "execution_count": 5,
     "metadata": {},
     "output_type": "execute_result"
    }
   ],
   "source": [
    "df1.shape[0]"
   ]
  },
  {
   "cell_type": "code",
   "execution_count": 6,
   "metadata": {},
   "outputs": [],
   "source": [
    "img_path = r'F:\\PGDBA\\Contest\\Janta Hackathon\\images_backup'"
   ]
  },
  {
   "cell_type": "code",
   "execution_count": 7,
   "metadata": {},
   "outputs": [
    {
     "name": "stdout",
     "output_type": "stream",
     "text": [
      "705 - 706 - 998.jpg\n"
     ]
    }
   ],
   "source": [
    "file_name = []\n",
    "class_label = []\n",
    "confidences = []\n",
    "boxes = []\n",
    "img_shape = []\n",
    "# df1.shape[0]\n",
    "for i in range(0,df1.shape[0]):\n",
    "    filename = df1[i][0]\n",
    "    os.chdir(img_path)    \n",
    "    img = cv2.imread(\"%s\"%filename)\n",
    "    img = cv2.resize(img, None, fx=1, fy=1)\n",
    "    height, width, channels = img.shape    \n",
    "    blob = cv2.dnn.blobFromImage(img, 0.00392, (416, 416), (0, 0, 0), True, crop=False)    \n",
    "    net.setInput(blob)\n",
    "    outs = net.forward(output_layers)\n",
    "    clear_output()\n",
    "    for out in outs:\n",
    "        for detection in out:\n",
    "            scores = detection[5:]\n",
    "            class_id = np.argmax(scores)\n",
    "            confidence = scores[class_id]\n",
    "            if confidence > 0.5:\n",
    "                # Object detected\n",
    "                x_cen = int(detection[0] * width)\n",
    "                y_cen = int(detection[1] * height)\n",
    "                w = int(detection[2] * width)\n",
    "                h = int(detection[3] * height)\n",
    "                label = str(classes[class_id])                \n",
    "                file_name.append(filename)\n",
    "                class_label.append(label)\n",
    "                confidences.append(float(confidence))\n",
    "                boxes.append([x_cen, y_cen, w, h])\n",
    "                img_shape.append([width, height])                \n",
    "                print(i,'-',df1.shape[0],'-',filename)"
   ]
  },
  {
   "cell_type": "code",
   "execution_count": 12,
   "metadata": {},
   "outputs": [],
   "source": [
    "file_name = pd.DataFrame(file_name)\n",
    "file_name.rename(columns={0:'image_names'},inplace=True)\n",
    "class_label = pd.DataFrame(class_label)\n",
    "class_label.rename(columns={0:'class'},inplace=True)\n",
    "confidences = pd.DataFrame(confidences)\n",
    "confidences.rename(columns={0:'confidences'},inplace=True)\n",
    "boxes = pd.DataFrame(boxes)\n",
    "boxes.rename(columns={0:'x_cen', 1:'y_cen', 2:'w', 3:'h'},inplace=True)\n",
    "img_shape = pd.DataFrame(img_shape)\n",
    "img_shape.rename(columns={0:'img_w', 1:'img_ht'},inplace=True)"
   ]
  },
  {
   "cell_type": "code",
   "execution_count": 13,
   "metadata": {},
   "outputs": [],
   "source": [
    "df2 = pd.concat([file_name, class_label, confidences, boxes, img_shape], axis=1)"
   ]
  },
  {
   "cell_type": "code",
   "execution_count": 14,
   "metadata": {},
   "outputs": [
    {
     "data": {
      "text/plain": [
       "(707, 10)"
      ]
     },
     "execution_count": 14,
     "metadata": {},
     "output_type": "execute_result"
    }
   ],
   "source": [
    "df2['emergency_or_not'] = np.where(df2['class']=='non-em', '0', '1')\n",
    "df2.shape"
   ]
  },
  {
   "cell_type": "code",
   "execution_count": 15,
   "metadata": {},
   "outputs": [
    {
     "data": {
      "text/html": [
       "<div>\n",
       "<style scoped>\n",
       "    .dataframe tbody tr th:only-of-type {\n",
       "        vertical-align: middle;\n",
       "    }\n",
       "\n",
       "    .dataframe tbody tr th {\n",
       "        vertical-align: top;\n",
       "    }\n",
       "\n",
       "    .dataframe thead th {\n",
       "        text-align: right;\n",
       "    }\n",
       "</style>\n",
       "<table border=\"1\" class=\"dataframe\">\n",
       "  <thead>\n",
       "    <tr style=\"text-align: right;\">\n",
       "      <th></th>\n",
       "      <th>image_names</th>\n",
       "      <th>class</th>\n",
       "      <th>confidences</th>\n",
       "      <th>x_cen</th>\n",
       "      <th>y_cen</th>\n",
       "      <th>w</th>\n",
       "      <th>h</th>\n",
       "      <th>img_w</th>\n",
       "      <th>img_ht</th>\n",
       "      <th>emergency_or_not</th>\n",
       "    </tr>\n",
       "  </thead>\n",
       "  <tbody>\n",
       "    <tr>\n",
       "      <th>0</th>\n",
       "      <td>100.jpg</td>\n",
       "      <td>em</td>\n",
       "      <td>0.996092</td>\n",
       "      <td>100</td>\n",
       "      <td>115</td>\n",
       "      <td>204</td>\n",
       "      <td>161</td>\n",
       "      <td>224</td>\n",
       "      <td>224</td>\n",
       "      <td>1</td>\n",
       "    </tr>\n",
       "    <tr>\n",
       "      <th>1</th>\n",
       "      <td>1000.jpg</td>\n",
       "      <td>non-em</td>\n",
       "      <td>0.999638</td>\n",
       "      <td>116</td>\n",
       "      <td>117</td>\n",
       "      <td>222</td>\n",
       "      <td>99</td>\n",
       "      <td>224</td>\n",
       "      <td>224</td>\n",
       "      <td>0</td>\n",
       "    </tr>\n",
       "    <tr>\n",
       "      <th>2</th>\n",
       "      <td>1001.jpg</td>\n",
       "      <td>non-em</td>\n",
       "      <td>0.999643</td>\n",
       "      <td>111</td>\n",
       "      <td>109</td>\n",
       "      <td>222</td>\n",
       "      <td>193</td>\n",
       "      <td>224</td>\n",
       "      <td>224</td>\n",
       "      <td>0</td>\n",
       "    </tr>\n",
       "    <tr>\n",
       "      <th>3</th>\n",
       "      <td>1004.jpg</td>\n",
       "      <td>non-em</td>\n",
       "      <td>0.998603</td>\n",
       "      <td>117</td>\n",
       "      <td>109</td>\n",
       "      <td>221</td>\n",
       "      <td>160</td>\n",
       "      <td>224</td>\n",
       "      <td>224</td>\n",
       "      <td>0</td>\n",
       "    </tr>\n",
       "    <tr>\n",
       "      <th>4</th>\n",
       "      <td>1014.jpg</td>\n",
       "      <td>em</td>\n",
       "      <td>0.733051</td>\n",
       "      <td>111</td>\n",
       "      <td>115</td>\n",
       "      <td>218</td>\n",
       "      <td>224</td>\n",
       "      <td>224</td>\n",
       "      <td>224</td>\n",
       "      <td>1</td>\n",
       "    </tr>\n",
       "  </tbody>\n",
       "</table>\n",
       "</div>"
      ],
      "text/plain": [
       "  image_names   class  confidences  x_cen  y_cen    w    h  img_w  img_ht  \\\n",
       "0     100.jpg      em     0.996092    100    115  204  161    224     224   \n",
       "1    1000.jpg  non-em     0.999638    116    117  222   99    224     224   \n",
       "2    1001.jpg  non-em     0.999643    111    109  222  193    224     224   \n",
       "3    1004.jpg  non-em     0.998603    117    109  221  160    224     224   \n",
       "4    1014.jpg      em     0.733051    111    115  218  224    224     224   \n",
       "\n",
       "  emergency_or_not  \n",
       "0                1  \n",
       "1                0  \n",
       "2                0  \n",
       "3                0  \n",
       "4                1  "
      ]
     },
     "execution_count": 15,
     "metadata": {},
     "output_type": "execute_result"
    }
   ],
   "source": [
    "df2.head()"
   ]
  },
  {
   "cell_type": "code",
   "execution_count": 16,
   "metadata": {},
   "outputs": [],
   "source": [
    "os.chdir(r'F:\\PGDBA\\Contest\\Janta Hackathon')\n",
    "df2.to_csv('test_output.csv')"
   ]
  },
  {
   "cell_type": "code",
   "execution_count": null,
   "metadata": {},
   "outputs": [],
   "source": []
  },
  {
   "cell_type": "code",
   "execution_count": null,
   "metadata": {},
   "outputs": [],
   "source": []
  },
  {
   "cell_type": "code",
   "execution_count": null,
   "metadata": {},
   "outputs": [],
   "source": []
  },
  {
   "cell_type": "code",
   "execution_count": null,
   "metadata": {},
   "outputs": [],
   "source": []
  }
 ],
 "metadata": {
  "colab": {
   "collapsed_sections": [],
   "machine_shape": "hm",
   "name": "yolo_v1",
   "provenance": []
  },
  "kernelspec": {
   "display_name": "Python 3",
   "language": "python",
   "name": "python3"
  },
  "language_info": {
   "codemirror_mode": {
    "name": "ipython",
    "version": 3
   },
   "file_extension": ".py",
   "mimetype": "text/x-python",
   "name": "python",
   "nbconvert_exporter": "python",
   "pygments_lexer": "ipython3",
   "version": "3.7.4"
  }
 },
 "nbformat": 4,
 "nbformat_minor": 1
}
