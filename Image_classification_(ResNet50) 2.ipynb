{
  "nbformat": 4,
  "nbformat_minor": 0,
  "metadata": {
    "kernelspec": {
      "display_name": "Python 3",
      "language": "python",
      "name": "python3"
    },
    "language_info": {
      "codemirror_mode": {
        "name": "ipython",
        "version": 3
      },
      "file_extension": ".py",
      "mimetype": "text/x-python",
      "name": "python",
      "nbconvert_exporter": "python",
      "pygments_lexer": "ipython3",
      "version": "3.8.2"
    },
    "colab": {
      "name": "Image_classification (ResNet50).ipynb",
      "provenance": [],
      "toc_visible": true
    },
    "accelerator": "GPU"
  },
  "cells": [
    {
      "cell_type": "markdown",
      "metadata": {
        "id": "fnOjHBWru73m",
        "colab_type": "text"
      },
      "source": [
        "# Image categorisation"
      ]
    },
    {
      "cell_type": "markdown",
      "metadata": {
        "id": "ARdIC02fu73n",
        "colab_type": "text"
      },
      "source": [
        "*  JantaHack Computer Vision by analyticsvidhya\n",
        "*  Classify emergency and non-emergency vehicle from images"
      ]
    },
    {
      "cell_type": "code",
      "metadata": {
        "id": "r6ELWGzdu73o",
        "colab_type": "code",
        "colab": {}
      },
      "source": [
        "import pandas as pd\n",
        "import numpy as np\n",
        "import random\n",
        "import math\n",
        "from google.colab import drive\n",
        "from sklearn.model_selection import train_test_split\n",
        "from sklearn.metrics import confusion_matrix\n",
        "\n",
        "from keras.preprocessing.image import ImageDataGenerator, load_img, img_to_array, array_to_img\n",
        "from keras.models import Sequential\n",
        "from keras.layers import Dense, Dropout, Activation, Flatten\n",
        "from keras.layers import Conv2D, MaxPool2D, BatchNormalization\n",
        "from keras.layers import Convolution2D, MaxPooling2D\n",
        "from keras.utils.np_utils import to_categorical\n",
        "\n",
        "from keras.applications.resnet50 import ResNet50\n",
        "from keras.applications.vgg16 import VGG16\n",
        "from keras.models import Model\n",
        "from keras.layers import Input, Dense, GlobalAveragePooling2D\n",
        "from keras import backend as K\n",
        "\n",
        "import seaborn as sns\n",
        "from matplotlib import pyplot as plt"
      ],
      "execution_count": 0,
      "outputs": []
    },
    {
      "cell_type": "code",
      "metadata": {
        "id": "qEFpKTRzepvU",
        "colab_type": "code",
        "colab": {}
      },
      "source": [
        "K.set_image_data_format('channels_last')"
      ],
      "execution_count": 0,
      "outputs": []
    },
    {
      "cell_type": "code",
      "metadata": {
        "id": "Lu1srAbWu73w",
        "colab_type": "code",
        "colab": {}
      },
      "source": [
        "# numpy random number geneartor seed\n",
        "# for reproducibility\n",
        "np.random.seed(123)\n",
        "\n",
        "# set plot rc parameters\n",
        "# jtplot.style(grid=False)\n",
        "plt.rcParams['figure.facecolor'] = 'white'\n",
        "plt.rcParams['axes.facecolor'] = '#232323'\n",
        "#plt.rcParams['axes.edgecolor'] = '#FFFFFF'\n",
        "plt.rcParams['figure.figsize'] = 10, 7\n",
        "plt.rcParams['legend.loc'] = 'best'\n",
        "plt.rcParams['legend.framealpha'] = 0.2\n",
        "plt.rcParams['text.color'] = '#666666'\n",
        "plt.rcParams['axes.labelcolor'] = '#666666'\n",
        "plt.rcParams['axes.labelsize'] = 14\n",
        "plt.rcParams['axes.titlesize'] = 16\n",
        "plt.rcParams['xtick.color'] = '#666666'\n",
        "plt.rcParams['xtick.labelsize'] = 14\n",
        "plt.rcParams['ytick.color'] = '#666666'\n",
        "plt.rcParams['ytick.labelsize'] = 14\n",
        "\n",
        "# plt.rcParams['font.size'] = 16\n",
        "\n",
        "sns.color_palette('dark')\n",
        "%matplotlib inline"
      ],
      "execution_count": 0,
      "outputs": []
    },
    {
      "cell_type": "markdown",
      "metadata": {
        "id": "6xhpQuOsu731",
        "colab_type": "text"
      },
      "source": [
        "## Load data"
      ]
    },
    {
      "cell_type": "code",
      "metadata": {
        "id": "JTuKfmiWv9CJ",
        "colab_type": "code",
        "outputId": "60398571-5a3a-49f7-be32-f943042fa336",
        "colab": {
          "base_uri": "https://localhost:8080/",
          "height": 122
        }
      },
      "source": [
        "drive.mount('/content/drive')"
      ],
      "execution_count": 3,
      "outputs": [
        {
          "output_type": "stream",
          "text": [
            "Go to this URL in a browser: https://accounts.google.com/o/oauth2/auth?client_id=947318989803-6bn6qk8qdgf4n4g3pfee6491hc0brc4i.apps.googleusercontent.com&redirect_uri=urn%3aietf%3awg%3aoauth%3a2.0%3aoob&response_type=code&scope=email%20https%3a%2f%2fwww.googleapis.com%2fauth%2fdocs.test%20https%3a%2f%2fwww.googleapis.com%2fauth%2fdrive%20https%3a%2f%2fwww.googleapis.com%2fauth%2fdrive.photos.readonly%20https%3a%2f%2fwww.googleapis.com%2fauth%2fpeopleapi.readonly\n",
            "\n",
            "Enter your authorization code:\n",
            "··········\n",
            "Mounted at /content/drive\n"
          ],
          "name": "stdout"
        }
      ]
    },
    {
      "cell_type": "code",
      "metadata": {
        "id": "DF3YeaWPy1UG",
        "colab_type": "code",
        "colab": {}
      },
      "source": [
        "data_dir = '/content/drive/My Drive/JantaHack Computer Vision/data'\n",
        "img_dir = '/content/drive/My Drive/JantaHack Computer Vision/data/images'"
      ],
      "execution_count": 0,
      "outputs": []
    },
    {
      "cell_type": "code",
      "metadata": {
        "id": "DR1enKVmu732",
        "colab_type": "code",
        "outputId": "33735e85-0a57-43f7-bef6-92a76e474e46",
        "colab": {
          "base_uri": "https://localhost:8080/",
          "height": 34
        }
      },
      "source": [
        "train_img = pd.read_csv(data_dir+'/train.csv')\n",
        "test_img = pd.read_csv(data_dir+'/test_vc2kHdQ.csv')\n",
        "train_img.shape, test_img.shape"
      ],
      "execution_count": 5,
      "outputs": [
        {
          "output_type": "execute_result",
          "data": {
            "text/plain": [
              "((1646, 2), (706, 1))"
            ]
          },
          "metadata": {
            "tags": []
          },
          "execution_count": 5
        }
      ]
    },
    {
      "cell_type": "code",
      "metadata": {
        "id": "tSsgPQX5u736",
        "colab_type": "code",
        "colab": {}
      },
      "source": [
        "train_img['emergency_or_not'] = train_img['emergency_or_not'].apply(lambda x: str(x))"
      ],
      "execution_count": 0,
      "outputs": []
    },
    {
      "cell_type": "code",
      "metadata": {
        "id": "7wLHo4FZu73-",
        "colab_type": "code",
        "outputId": "1a5a800e-b0ec-4031-be1f-c7447f9f501f",
        "colab": {
          "base_uri": "https://localhost:8080/",
          "height": 204
        }
      },
      "source": [
        "train_img.head()"
      ],
      "execution_count": 7,
      "outputs": [
        {
          "output_type": "execute_result",
          "data": {
            "text/html": [
              "<div>\n",
              "<style scoped>\n",
              "    .dataframe tbody tr th:only-of-type {\n",
              "        vertical-align: middle;\n",
              "    }\n",
              "\n",
              "    .dataframe tbody tr th {\n",
              "        vertical-align: top;\n",
              "    }\n",
              "\n",
              "    .dataframe thead th {\n",
              "        text-align: right;\n",
              "    }\n",
              "</style>\n",
              "<table border=\"1\" class=\"dataframe\">\n",
              "  <thead>\n",
              "    <tr style=\"text-align: right;\">\n",
              "      <th></th>\n",
              "      <th>image_names</th>\n",
              "      <th>emergency_or_not</th>\n",
              "    </tr>\n",
              "  </thead>\n",
              "  <tbody>\n",
              "    <tr>\n",
              "      <th>0</th>\n",
              "      <td>1503.jpg</td>\n",
              "      <td>0</td>\n",
              "    </tr>\n",
              "    <tr>\n",
              "      <th>1</th>\n",
              "      <td>1420.jpg</td>\n",
              "      <td>0</td>\n",
              "    </tr>\n",
              "    <tr>\n",
              "      <th>2</th>\n",
              "      <td>1764.jpg</td>\n",
              "      <td>0</td>\n",
              "    </tr>\n",
              "    <tr>\n",
              "      <th>3</th>\n",
              "      <td>1356.jpg</td>\n",
              "      <td>0</td>\n",
              "    </tr>\n",
              "    <tr>\n",
              "      <th>4</th>\n",
              "      <td>1117.jpg</td>\n",
              "      <td>0</td>\n",
              "    </tr>\n",
              "  </tbody>\n",
              "</table>\n",
              "</div>"
            ],
            "text/plain": [
              "  image_names emergency_or_not\n",
              "0    1503.jpg                0\n",
              "1    1420.jpg                0\n",
              "2    1764.jpg                0\n",
              "3    1356.jpg                0\n",
              "4    1117.jpg                0"
            ]
          },
          "metadata": {
            "tags": []
          },
          "execution_count": 7
        }
      ]
    },
    {
      "cell_type": "markdown",
      "metadata": {
        "id": "P4aZZsnGu74D",
        "colab_type": "text"
      },
      "source": [
        "## Load Image data"
      ]
    },
    {
      "cell_type": "markdown",
      "metadata": {
        "id": "dcYccZAiu74E",
        "colab_type": "text"
      },
      "source": [
        "### Load image to array"
      ]
    },
    {
      "cell_type": "code",
      "metadata": {
        "id": "ua_-eJmVu74F",
        "colab_type": "code",
        "outputId": "c359b124-3d94-4828-e7a4-95d3b5fe6f20",
        "colab": {
          "base_uri": "https://localhost:8080/",
          "height": 34
        }
      },
      "source": [
        "im1 = load_img(img_dir+'/23.jpg')\n",
        "im1_array = img_to_array(im1)\n",
        "im1_array.shape"
      ],
      "execution_count": 8,
      "outputs": [
        {
          "output_type": "execute_result",
          "data": {
            "text/plain": [
              "(224, 224, 3)"
            ]
          },
          "metadata": {
            "tags": []
          },
          "execution_count": 8
        }
      ]
    },
    {
      "cell_type": "code",
      "metadata": {
        "id": "wHfeJn7qu74J",
        "colab_type": "code",
        "colab": {}
      },
      "source": [
        "# x = np.zeros(shape = [1646, 224, 224, 3])"
      ],
      "execution_count": 0,
      "outputs": []
    },
    {
      "cell_type": "code",
      "metadata": {
        "id": "rXEWW3XAu74M",
        "colab_type": "code",
        "colab": {}
      },
      "source": [
        "# for i, img in enumerate(train_img['image_names'].values):\n",
        "#     x[i] = img_to_array(load_img('data/images/'+img))"
      ],
      "execution_count": 0,
      "outputs": []
    },
    {
      "cell_type": "markdown",
      "metadata": {
        "id": "-Y4JA5diu74Q",
        "colab_type": "text"
      },
      "source": [
        "### Load image using generators"
      ]
    },
    {
      "cell_type": "code",
      "metadata": {
        "id": "TmGRPjQmu74R",
        "colab_type": "code",
        "colab": {}
      },
      "source": [
        "datagen = ImageDataGenerator(rescale=1./255.,validation_split=0.25)"
      ],
      "execution_count": 0,
      "outputs": []
    },
    {
      "cell_type": "code",
      "metadata": {
        "id": "pp3mYAayu74U",
        "colab_type": "code",
        "outputId": "77d705e5-3756-4f1d-eba2-ab5d95b32385",
        "colab": {
          "base_uri": "https://localhost:8080/",
          "height": 51
        }
      },
      "source": [
        "# train generator\n",
        "train_generator=datagen.flow_from_dataframe(dataframe=train_img,\n",
        "                                            directory=img_dir,\n",
        "                                            x_col=\"image_names\",\n",
        "                                            y_col=\"emergency_or_not\",\n",
        "                                            subset=\"training\",\n",
        "                                            batch_size=32,\n",
        "                                            seed=42,\n",
        "                                            shuffle=True,\n",
        "                                            class_mode=\"binary\",\n",
        "                                            target_size=(224,224),\n",
        "                                            color_mode='rgb')\n",
        "# validation data generator\n",
        "valid_generator=datagen.flow_from_dataframe(dataframe=train_img,\n",
        "                                            directory=img_dir,\n",
        "                                            x_col=\"image_names\",\n",
        "                                            y_col=\"emergency_or_not\",\n",
        "                                            subset=\"validation\",\n",
        "                                            batch_size=32,\n",
        "                                            seed=42,\n",
        "                                            shuffle=True,\n",
        "                                            class_mode=\"binary\",\n",
        "                                            target_size=(224,224),\n",
        "                                            color_mode='rgb')"
      ],
      "execution_count": 12,
      "outputs": [
        {
          "output_type": "stream",
          "text": [
            "Found 1235 validated image filenames belonging to 2 classes.\n",
            "Found 411 validated image filenames belonging to 2 classes.\n"
          ],
          "name": "stdout"
        }
      ]
    },
    {
      "cell_type": "code",
      "metadata": {
        "id": "QMTmCO9-u74Y",
        "colab_type": "code",
        "outputId": "7e6032bd-2a96-4937-b9e9-a92d3b599d6a",
        "colab": {
          "base_uri": "https://localhost:8080/",
          "height": 34
        }
      },
      "source": [
        "# test data generator\n",
        "test_datagen = ImageDataGenerator(rescale=1./255.)\n",
        "test_generator = test_datagen.flow_from_dataframe(dataframe=test_img,\n",
        "                                                  directory=img_dir,\n",
        "                                                  x_col=\"image_names\",\n",
        "                                                  y_col=None,\n",
        "                                                  batch_size=32,\n",
        "                                                  seed=42,\n",
        "                                                  shuffle=False,\n",
        "                                                  class_mode=None,\n",
        "                                                  target_size=(224,224),\n",
        "                                                  color_mode='rgb')"
      ],
      "execution_count": 13,
      "outputs": [
        {
          "output_type": "stream",
          "text": [
            "Found 706 validated image filenames.\n"
          ],
          "name": "stdout"
        }
      ]
    },
    {
      "cell_type": "markdown",
      "metadata": {
        "id": "H7l8uE6tu74c",
        "colab_type": "text"
      },
      "source": [
        "## CNN model"
      ]
    },
    {
      "cell_type": "code",
      "metadata": {
        "id": "bt4DezQ_u74e",
        "colab_type": "code",
        "colab": {}
      },
      "source": [
        "# # initiate sequential model\n",
        "# model = Sequential()\n",
        "# # add convolutional layer\n",
        "# # 16 sliding windows each of 3X3 size\n",
        "# # default step is 1X1\n",
        "# model.add(Conv2D(filters = 32,\n",
        "#                  kernel_size = (5, 5),\n",
        "#                  activation='relu',\n",
        "#                  input_shape = (224, 224,3),\n",
        "#                  padding='same'))\n",
        "# # add batch normalization to normalize output of the layer\n",
        "# model.add(BatchNormalization())\n",
        "# # add another convolutional layer\n",
        "# model.add(Conv2D(filters = 32,\n",
        "#                  kernel_size = (5, 5),\n",
        "#                  activation='relu',\n",
        "#                  padding='same'))\n",
        "# # batchnormalize\n",
        "# model.add(BatchNormalization())\n",
        "# # add maxpooling layer\n",
        "# # this layer picks max value for every 2X2 window\n",
        "# model.add(MaxPool2D(pool_size=(2,2)))\n",
        "# # add dropout layer\n",
        "# model.add(Dropout(0.3))\n",
        "# # repeat above sequence once more\n",
        "# model.add(Conv2D(filters = 64,\n",
        "#                  kernel_size = (5, 5),\n",
        "#                  activation='relu',\n",
        "#                  padding='same'))\n",
        "# model.add(BatchNormalization())\n",
        "# model.add(Conv2D(filters = 64,\n",
        "#                  kernel_size = (5, 5),\n",
        "#                  activation='relu',\n",
        "#                  padding='same'))\n",
        "# model.add(BatchNormalization())\n",
        "# model.add(MaxPool2D(pool_size=(2,2)))\n",
        "# model.add(Dropout(0.3))\n",
        "# # another pair of convolutional layers\n",
        "# model.add(Conv2D(filters = 128,\n",
        "#                  kernel_size = (5, 5),\n",
        "#                  activation='relu',\n",
        "#                  padding='same'))\n",
        "# model.add(BatchNormalization())\n",
        "# model.add(Conv2D(filters = 128,\n",
        "#                  kernel_size = (5, 5),\n",
        "#                  activation='relu',\n",
        "#                  padding='same'))\n",
        "# model.add(BatchNormalization())\n",
        "# model.add(Conv2D(filters = 128,\n",
        "#                  kernel_size = (5, 5),\n",
        "#                  activation='relu',\n",
        "#                  padding='same'))\n",
        "# model.add(BatchNormalization())\n",
        "# model.add(MaxPool2D(pool_size=(2,2)))\n",
        "# model.add(Dropout(0.3))\n",
        "# # flatten cnn layers\n",
        "# model.add(Flatten())\n",
        "# # add dense layer\n",
        "# model.add(Dense(512, activation='relu'))\n",
        "# model.add(Dropout(0.3))\n",
        "# model.add(Dense(256, activation='relu'))\n",
        "# model.add(Dropout(0.3))\n",
        "# # finally add a softmax layer which will predict probability of each class\n",
        "# model.add(Dense(1, activation='sigmoid'))\n",
        "# # print model summary\n",
        "# model.summary()\n",
        "\n",
        "# # compile model\n",
        "# model.compile(loss='binary_crossentropy',\n",
        "#              optimizer='adam',\n",
        "#              metrics=['accuracy'])"
      ],
      "execution_count": 0,
      "outputs": []
    },
    {
      "cell_type": "markdown",
      "metadata": {
        "id": "jI9f9fQRHuxG",
        "colab_type": "text"
      },
      "source": [
        "## VGG 16"
      ]
    },
    {
      "cell_type": "code",
      "metadata": {
        "id": "k-gr93HIHzr-",
        "colab_type": "code",
        "colab": {
          "base_uri": "https://localhost:8080/",
          "height": 425
        },
        "outputId": "359add91-0dce-4189-8594-4741d632655b"
      },
      "source": [
        "# Setup transfer learning model\n",
        "\n",
        "# # load model without classifier layers\n",
        "# base_model = VGG16(include_top=False,\n",
        "#                    input_tensor=Input(shape=(224, 224, 3)),\n",
        "#                    weights='imagenet')\n",
        "# # add new classifier layers\n",
        "# flat1 = Flatten()(base_model.outputs)\n",
        "# #flat1 = GlobalAveragePooling2D()(flat1)\n",
        "# class1 = Dense(256, activation='relu')(flat1)\n",
        "# output = Dense(1, activation='sigmoid')(class1)\n",
        "# # define new model\n",
        "# model = Model(inputs=base_model.inputs, outputs=output)\n",
        "# # summarize\n",
        "# model.summary()\n",
        "\n",
        "# # first: train only the top layers (which were randomly initialized)\n",
        "# # i.e. freeze all convolutional ResNet50 layers\n",
        "# for layer in base_model.layers:\n",
        "#     layer.trainable = False\n",
        "\n",
        "model = Sequential()\n",
        "# NOTE that this layer will be set below as NOT TRAINABLE, i.e., use it as is\n",
        "model.add(ResNet50(include_top = False, input_shape = (224,224,3), weights = 'imagenet'))\n",
        "model.add(Flatten())\n",
        "# 2nd layer as Dense for 2-class classification, i.e., dog or cat using SoftMax activation\n",
        "model.add(Dense(512, activation = 'relu'))\n",
        "model.add(Dropout(0.3))\n",
        "model.add(Dense(256, activation = 'relu'))\n",
        "model.add(Dropout(0.3))\n",
        "model.add(Dense(1, activation = 'sigmoid'))\n",
        "\n",
        "# Say not to train first layer (ResNet) model as it is already trained\n",
        "model.layers[0].trainable = False\n",
        "model.summary()\n",
        "# compile model\n",
        "model.compile(loss='binary_crossentropy',\n",
        "             optimizer='adam',\n",
        "             metrics=['accuracy'])"
      ],
      "execution_count": 68,
      "outputs": [
        {
          "output_type": "stream",
          "text": [
            "/usr/local/lib/python3.6/dist-packages/keras_applications/resnet50.py:265: UserWarning: The output shape of `ResNet50(include_top=False)` has been changed since Keras 2.2.0.\n",
            "  warnings.warn('The output shape of `ResNet50(include_top=False)` '\n"
          ],
          "name": "stderr"
        },
        {
          "output_type": "stream",
          "text": [
            "Model: \"sequential_3\"\n",
            "_________________________________________________________________\n",
            "Layer (type)                 Output Shape              Param #   \n",
            "=================================================================\n",
            "resnet50 (Model)             (None, 7, 7, 2048)        23587712  \n",
            "_________________________________________________________________\n",
            "flatten_17 (Flatten)         (None, 100352)            0         \n",
            "_________________________________________________________________\n",
            "dense_26 (Dense)             (None, 512)               51380736  \n",
            "_________________________________________________________________\n",
            "dropout_1 (Dropout)          (None, 512)               0         \n",
            "_________________________________________________________________\n",
            "dense_27 (Dense)             (None, 256)               131328    \n",
            "_________________________________________________________________\n",
            "dropout_2 (Dropout)          (None, 256)               0         \n",
            "_________________________________________________________________\n",
            "dense_28 (Dense)             (None, 1)                 257       \n",
            "=================================================================\n",
            "Total params: 75,100,033\n",
            "Trainable params: 51,512,321\n",
            "Non-trainable params: 23,587,712\n",
            "_________________________________________________________________\n"
          ],
          "name": "stdout"
        }
      ]
    },
    {
      "cell_type": "markdown",
      "metadata": {
        "id": "m7ROY9Nmu74i",
        "colab_type": "text"
      },
      "source": [
        "## Train CNN model"
      ]
    },
    {
      "cell_type": "code",
      "metadata": {
        "id": "7BX_xfORu74j",
        "colab_type": "code",
        "colab": {}
      },
      "source": [
        "STEP_SIZE_TRAIN = train_generator.n//train_generator.batch_size\n",
        "STEP_SIZE_VALID = valid_generator.n//valid_generator.batch_size\n",
        "STEP_SIZE_TEST=test_generator.n//test_generator.batch_size"
      ],
      "execution_count": 0,
      "outputs": []
    },
    {
      "cell_type": "code",
      "metadata": {
        "id": "7A7ZVpwAJjLa",
        "colab_type": "code",
        "colab": {
          "base_uri": "https://localhost:8080/",
          "height": 374
        },
        "outputId": "cdbe2f7f-e70b-40a3-d989-aaddcf4c2820"
      },
      "source": [
        "model.fit_generator(generator=train_generator,\n",
        "                    validation_data=valid_generator,\n",
        "                    epochs=10)"
      ],
      "execution_count": 69,
      "outputs": [
        {
          "output_type": "stream",
          "text": [
            "Epoch 1/10\n",
            "39/39 [==============================] - 23s 586ms/step - loss: 5.7059 - accuracy: 0.7765 - val_loss: 1.1447 - val_accuracy: 0.3990\n",
            "Epoch 2/10\n",
            "39/39 [==============================] - 18s 465ms/step - loss: 0.9985 - accuracy: 0.9069 - val_loss: 0.9627 - val_accuracy: 0.6010\n",
            "Epoch 3/10\n",
            "39/39 [==============================] - 18s 464ms/step - loss: 0.4567 - accuracy: 0.9587 - val_loss: 2.7078 - val_accuracy: 0.6010\n",
            "Epoch 4/10\n",
            "39/39 [==============================] - 18s 466ms/step - loss: 0.4831 - accuracy: 0.9547 - val_loss: 2.8472 - val_accuracy: 0.6010\n",
            "Epoch 5/10\n",
            "39/39 [==============================] - 18s 467ms/step - loss: 0.2863 - accuracy: 0.9676 - val_loss: 0.9406 - val_accuracy: 0.6010\n",
            "Epoch 6/10\n",
            "39/39 [==============================] - 18s 466ms/step - loss: 0.1147 - accuracy: 0.9854 - val_loss: 0.9128 - val_accuracy: 0.4185\n",
            "Epoch 7/10\n",
            "39/39 [==============================] - 18s 465ms/step - loss: 0.3535 - accuracy: 0.9757 - val_loss: 1.7709 - val_accuracy: 0.3990\n",
            "Epoch 8/10\n",
            "39/39 [==============================] - 18s 468ms/step - loss: 0.4111 - accuracy: 0.9676 - val_loss: 0.7314 - val_accuracy: 0.4404\n",
            "Epoch 9/10\n",
            "39/39 [==============================] - 18s 467ms/step - loss: 0.2281 - accuracy: 0.9781 - val_loss: 1.1128 - val_accuracy: 0.4015\n",
            "Epoch 10/10\n",
            "39/39 [==============================] - 18s 467ms/step - loss: 0.4226 - accuracy: 0.9822 - val_loss: 0.6261 - val_accuracy: 0.5669\n"
          ],
          "name": "stdout"
        },
        {
          "output_type": "execute_result",
          "data": {
            "text/plain": [
              "<keras.callbacks.callbacks.History at 0x7fe29b340c50>"
            ]
          },
          "metadata": {
            "tags": []
          },
          "execution_count": 69
        }
      ]
    },
    {
      "cell_type": "code",
      "metadata": {
        "id": "TD3XuY-T03nW",
        "colab_type": "code",
        "outputId": "7c3fdd2c-9a6a-42d7-e42d-251dabc891bd",
        "colab": {
          "base_uri": "https://localhost:8080/",
          "height": 34
        }
      },
      "source": [
        "model.evaluate_generator(generator=valid_generator,\n",
        "                         steps=STEP_SIZE_TEST)"
      ],
      "execution_count": 70,
      "outputs": [
        {
          "output_type": "execute_result",
          "data": {
            "text/plain": [
              "[0.6935396194458008, 0.5550786852836609]"
            ]
          },
          "metadata": {
            "tags": []
          },
          "execution_count": 70
        }
      ]
    },
    {
      "cell_type": "markdown",
      "metadata": {
        "id": "05r9ORlH5D6Y",
        "colab_type": "text"
      },
      "source": [
        "## Submissions"
      ]
    },
    {
      "cell_type": "code",
      "metadata": {
        "id": "I4mqr-EC6Ng3",
        "colab_type": "code",
        "outputId": "4a0b93c9-9384-4780-ca23-460c9ab554d1",
        "colab": {
          "base_uri": "https://localhost:8080/",
          "height": 34
        }
      },
      "source": [
        "test_generator.reset()\n",
        "pred=model.predict_generator(test_generator,\n",
        "                             verbose=1)"
      ],
      "execution_count": 0,
      "outputs": [
        {
          "output_type": "stream",
          "text": [
            "23/23 [==============================] - 2s 94ms/step\n"
          ],
          "name": "stdout"
        }
      ]
    },
    {
      "cell_type": "code",
      "metadata": {
        "id": "YC4AEBogBEGb",
        "colab_type": "code",
        "outputId": "e988e36e-5055-42b6-945c-77bf2eeedb8b",
        "colab": {
          "base_uri": "https://localhost:8080/",
          "height": 34
        }
      },
      "source": [
        "pred.shape"
      ],
      "execution_count": 0,
      "outputs": [
        {
          "output_type": "execute_result",
          "data": {
            "text/plain": [
              "(706, 1)"
            ]
          },
          "metadata": {
            "tags": []
          },
          "execution_count": 74
        }
      ]
    },
    {
      "cell_type": "code",
      "metadata": {
        "id": "Jc8MWeub-I5S",
        "colab_type": "code",
        "outputId": "8cb2b4e0-f612-4bd1-c93d-f790de330f1a",
        "colab": {
          "base_uri": "https://localhost:8080/",
          "height": 187
        }
      },
      "source": [
        "pred[pred >= 0.5] = 1\n",
        "pred[pred < 0.5] = 0\n",
        "pred[:10]"
      ],
      "execution_count": 0,
      "outputs": [
        {
          "output_type": "execute_result",
          "data": {
            "text/plain": [
              "array([[0.],\n",
              "       [1.],\n",
              "       [0.],\n",
              "       [1.],\n",
              "       [0.],\n",
              "       [1.],\n",
              "       [0.],\n",
              "       [1.],\n",
              "       [1.],\n",
              "       [0.]], dtype=float32)"
            ]
          },
          "metadata": {
            "tags": []
          },
          "execution_count": 75
        }
      ]
    },
    {
      "cell_type": "code",
      "metadata": {
        "id": "DC4QlKR_AXtj",
        "colab_type": "code",
        "colab": {}
      },
      "source": [
        "pred = pred.ravel()"
      ],
      "execution_count": 0,
      "outputs": []
    },
    {
      "cell_type": "code",
      "metadata": {
        "id": "td24k9gR6QAO",
        "colab_type": "code",
        "colab": {}
      },
      "source": [
        "# labels = (train_generator.class_indices)\n",
        "# labels = dict((v,k) for k,v in labels.items())\n",
        "# predictions = [labels[k] for k in predicted_class_indices]"
      ],
      "execution_count": 0,
      "outputs": []
    },
    {
      "cell_type": "code",
      "metadata": {
        "id": "FL8Sjyat63oz",
        "colab_type": "code",
        "colab": {}
      },
      "source": [
        "out_dir = '/content/drive/My Drive/JantaHack Computer Vision/'\n",
        "filenames=test_generator.filenames\n",
        "results=pd.DataFrame({\"image_names\":filenames,\n",
        "                      \"emergency_or_not\":pred})\n",
        "results.to_csv(out_dir+\"Submissions2.csv\",index=False)"
      ],
      "execution_count": 0,
      "outputs": []
    },
    {
      "cell_type": "code",
      "metadata": {
        "id": "eutOELGVAv94",
        "colab_type": "code",
        "colab": {}
      },
      "source": [
        ""
      ],
      "execution_count": 0,
      "outputs": []
    }
  ]
}